{
 "cells": [
  {
   "cell_type": "markdown",
   "metadata": {
    "colab_type": "text",
    "id": "1f4BYu0S_-5M"
   },
   "source": [
    "# Notebook Instructions\n",
    "<i>You can run the notebook document sequentially (one cell at a time) by pressing <b> shift + enter</b>. While a cell is running, a [*] will display on the left. When it has been run, a number will display indicating the order in which it was run in the notebook [8].</i>\n",
    "\n",
    "<i>Enter edit mode by pressing <b>`Enter`</b> or using the mouse to click on a cell's editor area. Edit mode is indicated by a green cell border and a prompt showing in the editor area.</i> <BR>\n",
    "    \n",
    "This course is based on specific versions of python packages. You can find the details of the same in <a href='https://quantra.quantinsti.com/quantra-notebook' target=\"_blank\" >this manual</a>. The manual also explains how to use these codes in other versions of python packages. <BR>"
   ]
  },
  {
   "cell_type": "markdown",
   "metadata": {
    "colab_type": "text",
    "id": "NhPxrZJX_-5R"
   },
   "source": [
    "# Strategy Creation and Optimization\n",
    "\n",
    "Every strategy boils down to this formula:\n",
    "Gain Expectancy = Trading edge = Win% * avg win% - Loss% * abs(avg loss%)\n",
    "This formula has two parts:\n",
    "1. Signal module: win% and loss% \n",
    "2. Money management module: avg win% and avg loss%\n",
    "\n",
    "In part 1 of this course, we have learned so far:\n",
    "1. How to restate absolute prices relative to an index and a pivot currency\n",
    "2. How to calculate returns and cumulative returns.\n",
    "3. Several methods to define regime: breakout, moving averages crosses and floor & ceiling\n",
    "\n",
    "\n",
    "In part 2, \n",
    "1. We will create a strategy by blending the three regime definition methodologies into a Long/Short strategy\n",
    "2. We will define a few risk metrics that specifically test the robustness.\n",
    "3. We will optimise over a few variables on a single security. This will conclude the signal module of the strategy\n",
    "4. Finally, we will look at the money management side of the strategy with a few position sizing algorithms\n",
    "\n",
    "\n",
    "This notebook is divided into two parts:\n",
    "1. Strategy Creation\n",
    "2. and, Strategy Optimization"
   ]
  },
  {
   "cell_type": "markdown",
   "metadata": {
    "colab_type": "text",
    "id": "9OLfvbM4_-5T"
   },
   "source": [
    "## Strategy Creation\n",
    "Objectives:\n",
    "We want a regime definition that has the following attributes:\n",
    "1. Stability: We do not want a jumpy method. This increases transaction costs, slippage. This excludes MA crosses. \n",
    "2. Limited lag: We want a strategy that identifies inflections as early as possible. This excludes breakouts. \n",
    "3. Weathers sideways markets: Market participants make money in the bull & bear markets, but end up giving back some in sideways markets. Our objective is to minimise drawdowns. \n",
    "\n",
    "By elimination, the Floor & Ceiling method seems to be the default candidate:\n",
    "1. Floor/Ceiling is stable\n",
    "2. Regime changes from bull to bear on a high and on a low for bear to bull\n",
    "3. Floor/Ceiling does not react to range-bound markets where lows and highs are at similar levels\n"
   ]
  },
  {
   "cell_type": "markdown",
   "metadata": {
    "colab_type": "text",
    "id": "6hth3Db1_-5X"
   },
   "source": [
    "Next, we will focus on signals:\n",
    "The logical candidate is short-term & mid-term moving averages cross. It enables us to enter a short as a bear market rally peters out and go long as market rallies.\n",
    "\n",
    "Stop Loss:\n",
    "A short-selling strategy would not be complete without a stop loss. It has a dual purpose:\n",
    "1. Stop loss: it deals with the lag in MA and false positives swing detection\n",
    "2. Position sizing: position size will be calculated from the stop loss to the close of the signal bar\n",
    "Stop loss must, therefore, be close enough to the current price to warrant decent position size. This excludes floor and ceiling. The logical candidate is short term rolling max or min, the main ingredient in the breakout regime.\n",
    "\n",
    "This combo strategy does not require a lag as the floor/ceiling method anymore. The inflection in the moving averages will lag the discovery of a swing."
   ]
  },
  {
   "cell_type": "markdown",
   "metadata": {
    "colab_type": "text",
    "id": "JiAiVWOh_-5Z"
   },
   "source": [
    "## Import libraries"
   ]
  },
  {
   "cell_type": "code",
   "execution_count": 1,
   "metadata": {
    "colab": {},
    "colab_type": "code",
    "id": "SQLjeqbO_-5c"
   },
   "outputs": [],
   "source": [
    "# Data manipulation libraries\n",
    "import numpy as np\n",
    "import pandas as pd\n",
    "from datetime import datetime\n",
    "\n",
    "# Calculates swing highs and lows\n",
    "from scipy.signal import *\n",
    "from scipy.signal import argrelextrema\n",
    "\n",
    "# Appends new file paths to import modules\n",
    "import sys\n",
    "sys.path.append(\"..\")\n",
    "\n",
    "# All functions library\n",
    "from data_modules.short_selling import relative\n",
    "from data_modules.short_selling import swings\n",
    "from data_modules.short_selling import regime_fc\n",
    "from data_modules.short_selling import returns\n",
    "from data_modules.short_selling import sma\n",
    "from data_modules.short_selling import cum_return_percent\n",
    "\n",
    "# Imports charting libraries\n",
    "import matplotlib.pyplot as plt\n",
    "%matplotlib inline\n",
    "\n",
    "# Construct a list of permutations\n",
    "import itertools as it"
   ]
  },
  {
   "cell_type": "markdown",
   "metadata": {
    "colab_type": "text",
    "id": "tZiwgkeW_-5i"
   },
   "source": [
    "## Import data\n",
    "### Files name:\n",
    "1. BAC_Jan_2010_to_Jan_2019.csv, contains stock data for 'Bank of America'\n",
    "2. USDGBP_Jan_2010_to_Jan_2019.csv, contains forex data for 'USDGBP'\n",
    "3. SP500_Jan_2010_to_Jan_2019.csv, contains benchmark data for 'SP500'\n",
    "\n",
    "This data is available in the last unit of this course. You can find this file in the downloadables section of the course."
   ]
  },
  {
   "cell_type": "code",
   "execution_count": 2,
   "metadata": {
    "colab": {},
    "colab_type": "code",
    "id": "CqewFB3AYBX1"
   },
   "outputs": [],
   "source": [
    "# Data is stored in the directory 'data_modules' \n",
    "relative_path = \"../data_modules/\""
   ]
  },
  {
   "cell_type": "code",
   "execution_count": 3,
   "metadata": {
    "colab": {},
    "colab_type": "code",
    "id": "lmuoSCpVYBX4"
   },
   "outputs": [],
   "source": [
    "# Read and process data\n",
    "stock = pd.read_csv(relative_path +'BAC_Jan_2010_to_Jan_2019.csv',index_col=0, parse_dates=True)"
   ]
  },
  {
   "cell_type": "code",
   "execution_count": 4,
   "metadata": {
    "colab": {},
    "colab_type": "code",
    "id": "s4tKqWqeYBX9"
   },
   "outputs": [],
   "source": [
    "# Import and read benchmark data using the function 'read_csv'\n",
    "benchmark =pd.read_csv(relative_path + \n",
    "    'SP500_Jan_2010_to_Jan_2019.csv', index_col=0, parse_dates=True)\n",
    "\n",
    "benchmark_name = 'SP500'\n",
    "\n",
    "# Import and read forex data using the function 'read_data'\n",
    "forex = pd.read_csv(relative_path + \n",
    "    'USDGBP_Jan_2010_to_Jan_2019.csv',index_col=0, parse_dates=True)\n",
    "\n",
    "forex_name = 'USDGBP'"
   ]
  },
  {
   "cell_type": "code",
   "execution_count": 5,
   "metadata": {
    "colab": {},
    "colab_type": "code",
    "id": "PAZ7K8P__-5p",
    "outputId": "1d158be8-a0e3-4c73-b480-2f8d3b776f12"
   },
   "outputs": [
    {
     "data": {
      "text/html": [
       "<div>\n",
       "<style scoped>\n",
       "    .dataframe tbody tr th:only-of-type {\n",
       "        vertical-align: middle;\n",
       "    }\n",
       "\n",
       "    .dataframe tbody tr th {\n",
       "        vertical-align: top;\n",
       "    }\n",
       "\n",
       "    .dataframe thead th {\n",
       "        text-align: right;\n",
       "    }\n",
       "</style>\n",
       "<table border=\"1\" class=\"dataframe\">\n",
       "  <thead>\n",
       "    <tr style=\"text-align: right;\">\n",
       "      <th></th>\n",
       "      <th>Open</th>\n",
       "      <th>High</th>\n",
       "      <th>Low</th>\n",
       "      <th>Close</th>\n",
       "      <th>USDGBP</th>\n",
       "      <th>SP500</th>\n",
       "      <th>adjustment_factor</th>\n",
       "      <th>relative_open</th>\n",
       "      <th>relative_high</th>\n",
       "      <th>relative_low</th>\n",
       "      <th>...</th>\n",
       "      <th>rebased_low</th>\n",
       "      <th>rebased_close</th>\n",
       "      <th>srebased_low</th>\n",
       "      <th>srebased_high</th>\n",
       "      <th>r_floor</th>\n",
       "      <th>r_ceiling</th>\n",
       "      <th>r_regime_change</th>\n",
       "      <th>r_regime_floorceiling</th>\n",
       "      <th>r_floorceiling</th>\n",
       "      <th>r_regime_breakout</th>\n",
       "    </tr>\n",
       "    <tr>\n",
       "      <th>Date</th>\n",
       "      <th></th>\n",
       "      <th></th>\n",
       "      <th></th>\n",
       "      <th></th>\n",
       "      <th></th>\n",
       "      <th></th>\n",
       "      <th></th>\n",
       "      <th></th>\n",
       "      <th></th>\n",
       "      <th></th>\n",
       "      <th></th>\n",
       "      <th></th>\n",
       "      <th></th>\n",
       "      <th></th>\n",
       "      <th></th>\n",
       "      <th></th>\n",
       "      <th></th>\n",
       "      <th></th>\n",
       "      <th></th>\n",
       "      <th></th>\n",
       "      <th></th>\n",
       "    </tr>\n",
       "  </thead>\n",
       "  <tbody>\n",
       "    <tr>\n",
       "      <th>2018-12-31</th>\n",
       "      <td>24.57</td>\n",
       "      <td>24.97</td>\n",
       "      <td>24.37</td>\n",
       "      <td>24.64</td>\n",
       "      <td>0.79</td>\n",
       "      <td>249.92</td>\n",
       "      <td>196.32</td>\n",
       "      <td>0.13</td>\n",
       "      <td>0.13</td>\n",
       "      <td>0.12</td>\n",
       "      <td>...</td>\n",
       "      <td>8.73</td>\n",
       "      <td>8.83</td>\n",
       "      <td>NaN</td>\n",
       "      <td>NaN</td>\n",
       "      <td>NaN</td>\n",
       "      <td>NaN</td>\n",
       "      <td>10.38</td>\n",
       "      <td>-1.0</td>\n",
       "      <td>11.94</td>\n",
       "      <td>-1.0</td>\n",
       "    </tr>\n",
       "    <tr>\n",
       "      <th>2019-01-02</th>\n",
       "      <td>24.08</td>\n",
       "      <td>25.14</td>\n",
       "      <td>24.01</td>\n",
       "      <td>24.96</td>\n",
       "      <td>0.80</td>\n",
       "      <td>250.18</td>\n",
       "      <td>200.63</td>\n",
       "      <td>0.12</td>\n",
       "      <td>0.13</td>\n",
       "      <td>0.12</td>\n",
       "      <td>...</td>\n",
       "      <td>8.42</td>\n",
       "      <td>8.75</td>\n",
       "      <td>NaN</td>\n",
       "      <td>NaN</td>\n",
       "      <td>NaN</td>\n",
       "      <td>NaN</td>\n",
       "      <td>10.38</td>\n",
       "      <td>-1.0</td>\n",
       "      <td>11.94</td>\n",
       "      <td>-1.0</td>\n",
       "    </tr>\n",
       "  </tbody>\n",
       "</table>\n",
       "<p>2 rows × 23 columns</p>\n",
       "</div>"
      ],
      "text/plain": [
       "             Open   High    Low  Close  USDGBP   SP500  adjustment_factor  \\\n",
       "Date                                                                        \n",
       "2018-12-31  24.57  24.97  24.37  24.64    0.79  249.92             196.32   \n",
       "2019-01-02  24.08  25.14  24.01  24.96    0.80  250.18             200.63   \n",
       "\n",
       "            relative_open  relative_high  relative_low        ...          \\\n",
       "Date                                                          ...           \n",
       "2018-12-31           0.13           0.13          0.12        ...           \n",
       "2019-01-02           0.12           0.13          0.12        ...           \n",
       "\n",
       "            rebased_low  rebased_close  srebased_low  srebased_high  r_floor  \\\n",
       "Date                                                                           \n",
       "2018-12-31         8.73           8.83           NaN            NaN      NaN   \n",
       "2019-01-02         8.42           8.75           NaN            NaN      NaN   \n",
       "\n",
       "            r_ceiling  r_regime_change  r_regime_floorceiling  r_floorceiling  \\\n",
       "Date                                                                            \n",
       "2018-12-31        NaN            10.38                   -1.0           11.94   \n",
       "2019-01-02        NaN            10.38                   -1.0           11.94   \n",
       "\n",
       "            r_regime_breakout  \n",
       "Date                           \n",
       "2018-12-31               -1.0  \n",
       "2019-01-02               -1.0  \n",
       "\n",
       "[2 rows x 23 columns]"
      ]
     },
     "execution_count": 5,
     "metadata": {},
     "output_type": "execute_result"
    }
   ],
   "source": [
    "# Create a relative series\n",
    "new = relative(stock_dataframe=stock, benchmark_dataframe=benchmark, benchmark_name='SP500',\n",
    "               forex_dataframe=forex, forex_name='USDGBP', decimals=2, start=None, end=None)\n",
    "\n",
    "# Calculate the swings\n",
    "new = swings(df=new, high='rebased_high', low='rebased_low', argrel_window=20)\n",
    "\n",
    "# Calculate the stock regime\n",
    "new = regime_fc(df=new, close='rebased_close', swing_low='srebased_low',\n",
    "                swing_high='srebased_high', threshold=1.5, t_dev=63, decimals=3)\n",
    "\n",
    "# Returns the last two rows of the dataframe\n",
    "new.tail(2)"
   ]
  },
  {
   "cell_type": "markdown",
   "metadata": {
    "colab_type": "text",
    "id": "GkWU39y2_-51"
   },
   "source": [
    "### Strategy:\n",
    "To recap, our strategy will enter:\n",
    "1. Long when regime == 1 and moving average st>=mt\n",
    "2. Short when regime ==-1 and moving average st<=mt\n",
    "It will exit:\n",
    "1. Long when regime == 1 and moving average st < mt\n",
    "2. Short when regime ==-1 and moving average st > mt\n",
    "\n",
    "Stop Loss will be set at: \n",
    "1. Long highest high over mt \n",
    "2. Short lowest low over mt\n"
   ]
  },
  {
   "cell_type": "markdown",
   "metadata": {
    "colab_type": "text",
    "id": "O-fGLfSf_-52"
   },
   "source": [
    "#### Strategy creation : 'signal_fcstmt'\n",
    "\n",
    "This function 'signal_fcstmt' calculates positions based on regime & ma crossover. This function over imposes st/mt moving average cross condition on the regime. It will take an active position only if the regime and moving averages are aligned.\n",
    "Conditions:\n",
    "1. Long : st-mt > 0 & regime == 1\n",
    "2. Short: st-mt < 0 & regime == -1"
   ]
  },
  {
   "cell_type": "code",
   "execution_count": 6,
   "metadata": {
    "colab": {},
    "colab_type": "code",
    "id": "kLAp5M1H_-53"
   },
   "outputs": [],
   "source": [
    "def signal_fcstmt(regime,st,mt):\n",
    "\n",
    "    # Calculate the sign of the stmt delta\n",
    "    stmt_sign = np.sign((st - mt).fillna(0))\n",
    "\n",
    "    # Calculate entries/exits based on regime and stmt delta\n",
    "    active = np.where( np.sign( regime* stmt_sign) == 1,1,np.nan)\n",
    "    signal = regime * active\n",
    "\n",
    "    return signal"
   ]
  },
  {
   "cell_type": "markdown",
   "metadata": {
    "colab_type": "text",
    "id": "aVo5uDXE_-59"
   },
   "source": [
    "#### Strategy creation : 'stop_loss'\n",
    " \n",
    "This function 'stop_loss' uses signals generated from the previously defined function and swings to calculate stop loss.\n",
    "1. Join swing lows/highs, only keeps the value of the first day of signal (to avoid reset).\n",
    "2. Find the cumulative lowest/highest close.\n",
    "3. If close breaches stop loss, then crop signal column: np.nan \n",
    "4. Thereafter, return stop-loss column  "
   ]
  },
  {
   "cell_type": "code",
   "execution_count": 7,
   "metadata": {
    "colab": {},
    "colab_type": "code",
    "id": "OA1l0hWr_-5-"
   },
   "outputs": [],
   "source": [
    "def stop_loss(signal, close, s_low, s_high):\n",
    "\n",
    "    # Stop loss calculation\n",
    "    stoploss = (s_low.add(s_high, fill_value=0)).fillna(\n",
    "        method='ffill')  # join all swings in 1 column\n",
    "    stoploss[~((np.isnan(signal.shift(1))) & (~np.isnan(signal)))\n",
    "             ] = np.nan  # keep 1st sl by signal\n",
    "    # Extend first value with fillna\n",
    "    stoploss = stoploss.fillna(method='ffill')\n",
    "\n",
    "    # Bull: lowest close, Bear: highest close\n",
    "    close_max = close.groupby(stoploss).cummax()\n",
    "    close_min = close.groupby(stoploss).cummin()\n",
    "    cum_close = np.where(signal == 1, close_min,\n",
    "                         np.where(signal == -1, close_max, 0))\n",
    "\n",
    "    # Reset signal where stop loss is breached\n",
    "    sl_delta = (cum_close - stoploss).fillna(0)\n",
    "    sl_sign = signal * np.sign(sl_delta)\n",
    "    signal[sl_sign == -1] = np.nan\n",
    "\n",
    "    return stoploss"
   ]
  },
  {
   "cell_type": "markdown",
   "metadata": {
    "colab_type": "text",
    "id": "aTROdjn7_-6B"
   },
   "source": [
    "#### Strategy creation: 'transaction_costs'\n",
    "\n",
    "This function 'transaction_costs' identifies entries and exits by subtracting position column one row up .diff(). To avoid any residuals na, fillna() is done before subtraction. Transaction costs are deducted from the daily returns before compounding and then this daily returns column is adjusted."
   ]
  },
  {
   "cell_type": "code",
   "execution_count": 8,
   "metadata": {
    "colab": {},
    "colab_type": "code",
    "id": "BsOWs-hZ_-6D"
   },
   "outputs": [],
   "source": [
    "def transaction_costs(df, position_column, daily_return, tcs):\n",
    "\n",
    "    # Boolean filter\n",
    "    inout = df[position_column].fillna(0).diff().fillna(0) != 0\n",
    "    df[daily_return] = np.where(\n",
    "        inout, df[daily_return] - float(tcs), df[daily_return])\n",
    "\n",
    "    return df[daily_return]"
   ]
  },
  {
   "cell_type": "markdown",
   "metadata": {
    "colab_type": "text",
    "id": "FXcDNtnm_-6H"
   },
   "source": [
    "# Strategy optimization\n",
    "\n",
    "Now that we have created the strategy, the first question that comes to mind is which combinations of st and mt moving averages are going to produce returns over the higher of either passive or regime relative returns.\n",
    "\n",
    "In this section:\n",
    "\n",
    "We,\n",
    "1. Calculate the relative and absolute returns\n",
    "2. Create a list of st/mt permutations\n",
    "3. Loop through the st/mt permutations\n",
    "\n",
    "Steps within the for loop:\n",
    "​\n",
    "1. Calculate moving average crossovers\n",
    "2. Calculate positions based on the regime and moving average crossovers\n",
    "3. Calculate daily & cumulative returns and include transaction costs\n",
    "4. Calculate excess returns for passive and regime strategies \n",
    "5. Calculate the cumulative performance\n",
    "6. If Cumulative> Hurdle(max of passive/regime), then append a list to the dictionary.\n",
    "7. Plot the graph"
   ]
  },
  {
   "cell_type": "markdown",
   "metadata": {
    "colab_type": "text",
    "id": "dx6sJu7X_-6J"
   },
   "source": [
    "### Calculate relative and absolute returns"
   ]
  },
  {
   "cell_type": "code",
   "execution_count": 9,
   "metadata": {
    "colab": {},
    "colab_type": "code",
    "id": "WDQmtHUT_-6L"
   },
   "outputs": [],
   "source": [
    "# Calculate returns for the relative closed price\n",
    "new['r_return_1d'] = returns(new['rebased_close'])\n",
    "# Calculate returns for the absolute closed price\n",
    "new['return_1d'] = returns(new['Close'])"
   ]
  },
  {
   "cell_type": "code",
   "execution_count": 10,
   "metadata": {
    "colab": {},
    "colab_type": "code",
    "id": "ICKUiOnV_-6P",
    "outputId": "310e3ecb-0d4f-45a4-d1ee-b0fbdf87e1cb"
   },
   "outputs": [
    {
     "data": {
      "text/html": [
       "<div>\n",
       "<style scoped>\n",
       "    .dataframe tbody tr th:only-of-type {\n",
       "        vertical-align: middle;\n",
       "    }\n",
       "\n",
       "    .dataframe tbody tr th {\n",
       "        vertical-align: top;\n",
       "    }\n",
       "\n",
       "    .dataframe thead th {\n",
       "        text-align: right;\n",
       "    }\n",
       "</style>\n",
       "<table border=\"1\" class=\"dataframe\">\n",
       "  <thead>\n",
       "    <tr style=\"text-align: right;\">\n",
       "      <th></th>\n",
       "      <th>Open</th>\n",
       "      <th>High</th>\n",
       "      <th>Low</th>\n",
       "      <th>Close</th>\n",
       "      <th>USDGBP</th>\n",
       "      <th>SP500</th>\n",
       "      <th>adjustment_factor</th>\n",
       "      <th>relative_open</th>\n",
       "      <th>relative_high</th>\n",
       "      <th>relative_low</th>\n",
       "      <th>...</th>\n",
       "      <th>srebased_low</th>\n",
       "      <th>srebased_high</th>\n",
       "      <th>r_floor</th>\n",
       "      <th>r_ceiling</th>\n",
       "      <th>r_regime_change</th>\n",
       "      <th>r_regime_floorceiling</th>\n",
       "      <th>r_floorceiling</th>\n",
       "      <th>r_regime_breakout</th>\n",
       "      <th>r_return_1d</th>\n",
       "      <th>return_1d</th>\n",
       "    </tr>\n",
       "    <tr>\n",
       "      <th>Date</th>\n",
       "      <th></th>\n",
       "      <th></th>\n",
       "      <th></th>\n",
       "      <th></th>\n",
       "      <th></th>\n",
       "      <th></th>\n",
       "      <th></th>\n",
       "      <th></th>\n",
       "      <th></th>\n",
       "      <th></th>\n",
       "      <th></th>\n",
       "      <th></th>\n",
       "      <th></th>\n",
       "      <th></th>\n",
       "      <th></th>\n",
       "      <th></th>\n",
       "      <th></th>\n",
       "      <th></th>\n",
       "      <th></th>\n",
       "      <th></th>\n",
       "      <th></th>\n",
       "    </tr>\n",
       "  </thead>\n",
       "  <tbody>\n",
       "    <tr>\n",
       "      <th>2018-12-31</th>\n",
       "      <td>24.57</td>\n",
       "      <td>24.97</td>\n",
       "      <td>24.37</td>\n",
       "      <td>24.64</td>\n",
       "      <td>0.79</td>\n",
       "      <td>249.92</td>\n",
       "      <td>196.32</td>\n",
       "      <td>0.13</td>\n",
       "      <td>0.13</td>\n",
       "      <td>0.12</td>\n",
       "      <td>...</td>\n",
       "      <td>NaN</td>\n",
       "      <td>NaN</td>\n",
       "      <td>NaN</td>\n",
       "      <td>NaN</td>\n",
       "      <td>10.38</td>\n",
       "      <td>-1.0</td>\n",
       "      <td>11.94</td>\n",
       "      <td>-1.0</td>\n",
       "      <td>0.004540</td>\n",
       "      <td>0.010198</td>\n",
       "    </tr>\n",
       "    <tr>\n",
       "      <th>2019-01-02</th>\n",
       "      <td>24.08</td>\n",
       "      <td>25.14</td>\n",
       "      <td>24.01</td>\n",
       "      <td>24.96</td>\n",
       "      <td>0.80</td>\n",
       "      <td>250.18</td>\n",
       "      <td>200.63</td>\n",
       "      <td>0.12</td>\n",
       "      <td>0.13</td>\n",
       "      <td>0.12</td>\n",
       "      <td>...</td>\n",
       "      <td>NaN</td>\n",
       "      <td>NaN</td>\n",
       "      <td>NaN</td>\n",
       "      <td>NaN</td>\n",
       "      <td>10.38</td>\n",
       "      <td>-1.0</td>\n",
       "      <td>11.94</td>\n",
       "      <td>-1.0</td>\n",
       "      <td>-0.009101</td>\n",
       "      <td>0.012903</td>\n",
       "    </tr>\n",
       "  </tbody>\n",
       "</table>\n",
       "<p>2 rows × 25 columns</p>\n",
       "</div>"
      ],
      "text/plain": [
       "             Open   High    Low  Close  USDGBP   SP500  adjustment_factor  \\\n",
       "Date                                                                        \n",
       "2018-12-31  24.57  24.97  24.37  24.64    0.79  249.92             196.32   \n",
       "2019-01-02  24.08  25.14  24.01  24.96    0.80  250.18             200.63   \n",
       "\n",
       "            relative_open  relative_high  relative_low    ...      \\\n",
       "Date                                                      ...       \n",
       "2018-12-31           0.13           0.13          0.12    ...       \n",
       "2019-01-02           0.12           0.13          0.12    ...       \n",
       "\n",
       "            srebased_low  srebased_high  r_floor  r_ceiling  r_regime_change  \\\n",
       "Date                                                                           \n",
       "2018-12-31           NaN            NaN      NaN        NaN            10.38   \n",
       "2019-01-02           NaN            NaN      NaN        NaN            10.38   \n",
       "\n",
       "            r_regime_floorceiling  r_floorceiling  r_regime_breakout  \\\n",
       "Date                                                                   \n",
       "2018-12-31                   -1.0           11.94               -1.0   \n",
       "2019-01-02                   -1.0           11.94               -1.0   \n",
       "\n",
       "            r_return_1d  return_1d  \n",
       "Date                                \n",
       "2018-12-31     0.004540   0.010198  \n",
       "2019-01-02    -0.009101   0.012903  \n",
       "\n",
       "[2 rows x 25 columns]"
      ]
     },
     "execution_count": 10,
     "metadata": {},
     "output_type": "execute_result"
    }
   ],
   "source": [
    "# Return the last two rows of the dataframe\n",
    "new.tail(2)"
   ]
  },
  {
   "cell_type": "code",
   "execution_count": 11,
   "metadata": {
    "colab": {},
    "colab_type": "code",
    "id": "XwaPYjdR_-6S"
   },
   "outputs": [],
   "source": [
    "# Declare the variables\n",
    "st_list = range(10, 101, 10)\n",
    "mt_list = range(160, 201, 20)\n",
    "\n",
    "tcs = 0.0025\n",
    "lag = 9"
   ]
  },
  {
   "cell_type": "markdown",
   "metadata": {
    "colab_type": "text",
    "id": "-f9PhHD9_-6W"
   },
   "source": [
    "### Construct a list of short_term/mid_term permutations"
   ]
  },
  {
   "cell_type": "code",
   "execution_count": 12,
   "metadata": {
    "colab": {},
    "colab_type": "code",
    "id": "uijpBRF1_-6X",
    "outputId": "03efe4b9-d164-4797-f0b1-8a1aa56db387"
   },
   "outputs": [
    {
     "name": "stdout",
     "output_type": "stream",
     "text": [
      "number of short_term/mid_term permutations:  30\n"
     ]
    }
   ],
   "source": [
    "# Construct a list of st mt permutations\n",
    "permutations = it.product(st_list, mt_list)\n",
    "# Print the number of st/mt permutations\n",
    "print('number of short_term/mid_term permutations: ', len(list(permutations)))"
   ]
  },
  {
   "cell_type": "code",
   "execution_count": 13,
   "metadata": {
    "colab": {},
    "colab_type": "code",
    "id": "35V-fQMN_-6c"
   },
   "outputs": [],
   "source": [
    "# Create a dataframe and dictionary list\n",
    "list_dict = []\n",
    "\n",
    "perf = pd.DataFrame()\n",
    "returns = pd.DataFrame()"
   ]
  },
  {
   "cell_type": "markdown",
   "metadata": {
    "colab_type": "text",
    "id": "KuZNSZxg_-6f"
   },
   "source": [
    "### Loop over st/mt permutations"
   ]
  },
  {
   "cell_type": "code",
   "execution_count": 14,
   "metadata": {
    "colab": {},
    "colab_type": "code",
    "id": "g0SmZxli_-6h"
   },
   "outputs": [],
   "source": [
    "# st stands for short_term and mt stands for mid_term\n",
    "for st, mt in it.product(st_list, mt_list):\n",
    "    if st < mt:\n",
    "        # Create dataframe\n",
    "        data = pd.DataFrame()\n",
    "        data[['rebased_close', 'Close', 'r_return_1d', 'return_1d', 'r_regime_floorceiling', 'srebased_low', 'srebased_high']] = \\\n",
    "            new[['rebased_close', 'Close', 'r_return_1d', 'return_1d',\n",
    "                 'r_regime_floorceiling', 'srebased_low', 'srebased_high']].copy()\n",
    "\n",
    "        # Calculate moving averages\n",
    "        st_mt = str(st)+'_'+str(mt)\n",
    "        r_st_ma = sma(df=data, price='rebased_close',\n",
    "                      ma_per=st, min_per=1, decimals=2)\n",
    "        r_mt_ma = sma(df=data, price='rebased_close',\n",
    "                      ma_per=mt, min_per=1, decimals=2)\n",
    "\n",
    "        # Calculate positions based on regime and moving average crossovers\n",
    "        data['s'+'_'+st_mt] = signal_fcstmt(\n",
    "            regime=data['r_regime_floorceiling'], st=r_st_ma, mt=r_mt_ma)\n",
    "        data['stop_loss'+'_'+st_mt] = stop_loss(signal=data['s'+'_'+st_mt],\n",
    "                                    close=data['rebased_close'],\n",
    "                                    s_low=data['srebased_low'],\n",
    "                                    s_high=data['srebased_high'])\n",
    "\n",
    "        # Calculate daily & cumulative returns and include transaction costs\n",
    "        data['d'+'_'+st_mt] = data['r_return_1d'] * data['s'+'_'+st_mt].shift(1)\n",
    "        data['d'+'_'+st_mt] = transaction_costs(\n",
    "            df=data, position_column='s'+'_'+st_mt, daily_return='d'+'_'+st_mt, tcs=tcs)\n",
    "        data['c'+'_'+st_mt] = round(cum_return_percent(data['d'+'_'+st_mt].fillna(0)), 3)\n",
    "\n",
    "        # Date of initial position to calculate excess returns for passive and regime strategies\n",
    "        first_position_date = data[pd.notnull(data['s'+'_'+st_mt])].index[0]\n",
    "        data_sliced = data[first_position_date:].copy()\n",
    "\n",
    "        # Cumulative performance must be higher than either passive or regime (w/o transaction costs)\n",
    "        passive = round(cum_return_percent(data_sliced['r_return_1d'])[-1], 3)\n",
    "        fc_perf = round(cum_return_percent(\n",
    "            data_sliced['r_return_1d'] * data['r_regime_floorceiling'].shift(lag))[-1], 3)\n",
    "        hurdle = np.maximum(passive, fc_perf)\n",
    "\n",
    "        # If cumulative returns > hurdle, append list_dict and returns\n",
    "        if data['c'+'_'+st_mt][-1] >= hurdle:\n",
    "            returns[st_mt] = data['c'+'_'+st_mt]\n",
    "            # a) create row dictionary\n",
    "            row = {'st_mt': st_mt, 'st': st, 'mt': mt,\n",
    "                   'perf': data['c'+'_'+st_mt][-1], 'passive': passive}\n",
    "            # b) append list_dict\n",
    "            list_dict.append(row)\n",
    "    else:\n",
    "        pass"
   ]
  },
  {
   "cell_type": "code",
   "execution_count": 15,
   "metadata": {
    "colab": {},
    "colab_type": "code",
    "id": "UGbzxg3-_-6j",
    "outputId": "7494159e-c06e-4366-f068-ffb1270b7f9d"
   },
   "outputs": [
    {
     "data": {
      "text/html": [
       "<div>\n",
       "<style scoped>\n",
       "    .dataframe tbody tr th:only-of-type {\n",
       "        vertical-align: middle;\n",
       "    }\n",
       "\n",
       "    .dataframe tbody tr th {\n",
       "        vertical-align: top;\n",
       "    }\n",
       "\n",
       "    .dataframe thead th {\n",
       "        text-align: right;\n",
       "    }\n",
       "</style>\n",
       "<table border=\"1\" class=\"dataframe\">\n",
       "  <thead>\n",
       "    <tr style=\"text-align: right;\">\n",
       "      <th></th>\n",
       "      <th>st_mt</th>\n",
       "      <th>st</th>\n",
       "      <th>mt</th>\n",
       "      <th>perf</th>\n",
       "      <th>passive</th>\n",
       "    </tr>\n",
       "  </thead>\n",
       "  <tbody>\n",
       "    <tr>\n",
       "      <th>6</th>\n",
       "      <td>30_180</td>\n",
       "      <td>30</td>\n",
       "      <td>180</td>\n",
       "      <td>481.3</td>\n",
       "      <td>-33.2</td>\n",
       "    </tr>\n",
       "    <tr>\n",
       "      <th>9</th>\n",
       "      <td>40_180</td>\n",
       "      <td>40</td>\n",
       "      <td>180</td>\n",
       "      <td>454.3</td>\n",
       "      <td>-33.2</td>\n",
       "    </tr>\n",
       "    <tr>\n",
       "      <th>12</th>\n",
       "      <td>50_180</td>\n",
       "      <td>50</td>\n",
       "      <td>180</td>\n",
       "      <td>387.8</td>\n",
       "      <td>-33.2</td>\n",
       "    </tr>\n",
       "    <tr>\n",
       "      <th>5</th>\n",
       "      <td>30_160</td>\n",
       "      <td>30</td>\n",
       "      <td>160</td>\n",
       "      <td>369.5</td>\n",
       "      <td>-33.8</td>\n",
       "    </tr>\n",
       "    <tr>\n",
       "      <th>15</th>\n",
       "      <td>60_180</td>\n",
       "      <td>60</td>\n",
       "      <td>180</td>\n",
       "      <td>356.1</td>\n",
       "      <td>-33.2</td>\n",
       "    </tr>\n",
       "    <tr>\n",
       "      <th>3</th>\n",
       "      <td>20_180</td>\n",
       "      <td>20</td>\n",
       "      <td>180</td>\n",
       "      <td>350.8</td>\n",
       "      <td>-33.2</td>\n",
       "    </tr>\n",
       "    <tr>\n",
       "      <th>13</th>\n",
       "      <td>50_200</td>\n",
       "      <td>50</td>\n",
       "      <td>200</td>\n",
       "      <td>342.3</td>\n",
       "      <td>-23.5</td>\n",
       "    </tr>\n",
       "    <tr>\n",
       "      <th>8</th>\n",
       "      <td>40_160</td>\n",
       "      <td>40</td>\n",
       "      <td>160</td>\n",
       "      <td>338.9</td>\n",
       "      <td>-33.8</td>\n",
       "    </tr>\n",
       "    <tr>\n",
       "      <th>10</th>\n",
       "      <td>40_200</td>\n",
       "      <td>40</td>\n",
       "      <td>200</td>\n",
       "      <td>335.9</td>\n",
       "      <td>-23.5</td>\n",
       "    </tr>\n",
       "    <tr>\n",
       "      <th>11</th>\n",
       "      <td>50_160</td>\n",
       "      <td>50</td>\n",
       "      <td>160</td>\n",
       "      <td>334.9</td>\n",
       "      <td>-33.8</td>\n",
       "    </tr>\n",
       "  </tbody>\n",
       "</table>\n",
       "</div>"
      ],
      "text/plain": [
       "     st_mt  st   mt   perf  passive\n",
       "6   30_180  30  180  481.3    -33.2\n",
       "9   40_180  40  180  454.3    -33.2\n",
       "12  50_180  50  180  387.8    -33.2\n",
       "5   30_160  30  160  369.5    -33.8\n",
       "15  60_180  60  180  356.1    -33.2\n",
       "3   20_180  20  180  350.8    -33.2\n",
       "13  50_200  50  200  342.3    -23.5\n",
       "8   40_160  40  160  338.9    -33.8\n",
       "10  40_200  40  200  335.9    -23.5\n",
       "11  50_160  50  160  334.9    -33.8"
      ]
     },
     "execution_count": 15,
     "metadata": {},
     "output_type": "execute_result"
    }
   ],
   "source": [
    "# Create a dataframe from dictionary\n",
    "perf =  pd.DataFrame.from_dict(list_dict)\n",
    "# Sort by perf in descending order\n",
    "perf.sort_values(by=['perf'],ascending=False,inplace=True) \n",
    "# Re-order columns\n",
    "perf = perf[['st_mt', 'st','mt','perf','passive']] \n",
    "perf[:10]"
   ]
  },
  {
   "cell_type": "code",
   "execution_count": 16,
   "metadata": {
    "colab": {},
    "colab_type": "code",
    "id": "cEePvZEC_-6o",
    "outputId": "f226fd65-a078-453d-b5eb-f5fd937321c6",
    "scrolled": true
   },
   "outputs": [
    {
     "data": {
      "text/plain": [
       "<matplotlib.axes._subplots.AxesSubplot at 0x14646d87b00>"
      ]
     },
     "execution_count": 16,
     "metadata": {},
     "output_type": "execute_result"
    },
    {
     "data": {
      "image/png": "[encoded data removed]",
      "text/plain": [
       "<Figure size 720x504 with 1 Axes>"
      ]
     },
     "metadata": {},
     "output_type": "display_data"
    }
   ],
   "source": [
    "# Sort returns dataframe and plot top 10 combinations\n",
    "plot_cols = 10\n",
    "returns.sort_values(by=returns.index.max(),\n",
    "                    ascending=False, axis=1, inplace=True)\n",
    "# Plot the graph against stmt\n",
    "returns[returns.columns[:10]].plot(figsize=(10, 7))"
   ]
  }
 ],
 "metadata": {
  "colab": {
   "collapsed_sections": [],
   "name": "Strategy_Creation_And_Optimization.ipynb",
   "provenance": []
  },
  "kernelspec": {
   "display_name": "Python 3",
   "language": "python",
   "name": "python3"
  },
  "language_info": {
   "codemirror_mode": {
    "name": "ipython",
    "version": 3
   },
   "file_extension": ".py",
   "mimetype": "text/x-python",
   "name": "python",
   "nbconvert_exporter": "python",
   "pygments_lexer": "ipython3",
   "version": "3.6.5"
  }
 },
 "nbformat": 4,
 "nbformat_minor": 1
}
