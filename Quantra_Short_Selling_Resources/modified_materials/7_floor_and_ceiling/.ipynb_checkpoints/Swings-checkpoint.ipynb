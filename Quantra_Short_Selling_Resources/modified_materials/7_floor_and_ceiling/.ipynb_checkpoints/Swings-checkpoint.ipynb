{
 "cells": [
  {
   "cell_type": "markdown",
   "metadata": {
    "colab_type": "text",
    "id": "9Va3hz4HNtv0"
   },
   "source": [
    "# Notebook Instructions\n",
    "<i>You can run the notebook document sequentially (one cell at a time) by pressing <b> shift + enter</b>. While a cell is running, a [*] will display on the left. When it has been run, a number will display indicating the order in which it was run in the notebook [8].</i>\n",
    "\n",
    "<i>Enter edit mode by pressing <b>`Enter`</b> or using the mouse to click on a cell's editor area. Edit mode is indicated by a green cell border and a prompt showing in the editor area.</i> <BR>\n",
    "    \n",
    "This course is based on specific versions of python packages. You can find the details of the same in <a href='https://quantra.quantinsti.com/quantra-notebook' target=\"_blank\" >this manual</a>. The manual also explains how to use these codes in other versions of python packages. <BR>"
   ]
  },
  {
   "cell_type": "markdown",
   "metadata": {
    "colab_type": "text",
    "id": "xxOYKa5uNtv2"
   },
   "source": [
    "# Floor & Ceiling: Swing Calculation\n",
    "\n",
    " \n",
    "Regime calculation using floor and ceiling is a three-step process. This method, while conceptually simple, is computationally more involved. In this notebook, we will calculate swings and discuss them in detail.\n",
    "\n",
    "1. Swing calculation: We want to calculate all the swing highs and lows. A swing low is when price makes a low and is immediately followed by two consecutive higher lows. Likewise, a swing high is when the price makes a high and is followed by two consecutive lower highs. We need swings to alternate: swing high follows a swing low and vice versa. We also want to eliminate cases where swing lows are higher than swing highs. In practice, we will make use of the scipy library to calculate swing highs and lows. We will use a built-in function called argrelextrema. This function calculates peaks and troughs over several periods. "
   ]
  },
  {
   "cell_type": "markdown",
   "metadata": {
    "colab_type": "text",
    "id": "DFws_NefNtv3"
   },
   "source": [
    "This notebook is divided in the following parts:\n",
    "1. Create the swings\n",
    "2. Perform Alternation\n",
    "3. Perform Adjustment\n",
    "4. Compare the graphs\n"
   ]
  },
  {
   "cell_type": "markdown",
   "metadata": {
    "colab_type": "text",
    "id": "Dx2yvHYV7XXB"
   },
   "source": [
    "## Import libraries"
   ]
  },
  {
   "cell_type": "code",
   "execution_count": 48,
   "metadata": {
    "colab": {},
    "colab_type": "code",
    "id": "ZFkRoLrYNtv4"
   },
   "outputs": [],
   "source": [
    "# Data analysis and manipulation\n",
    "import numpy as np\n",
    "import pandas as pd\n",
    "from datetime import datetime\n",
    "\n",
    "# Calculates swing highs and lows\n",
    "from scipy.signal import *\n",
    "from scipy.signal import argrelextrema\n",
    "\n",
    "# To plot\n",
    "import matplotlib.pyplot as plt\n",
    "import warnings\n",
    "warnings.filterwarnings('ignore')"
   ]
  },
  {
   "cell_type": "markdown",
   "metadata": {
    "colab_type": "text",
    "id": "DYRscXoy7XXE"
   },
   "source": [
    "## Import data\n",
    "\n",
    "### File names: \n",
    "1. Jan_2010_to_Jan_2019_Rebased_Series.\n",
    "\n",
    "This data is available in the last unit of this course. You can find this file in the downloadables section of the course. We import these data by using the pandas function 'pandas.read_csv()'. This function will read the comma-separated values (CSV) file into dataframe."
   ]
  },
  {
   "cell_type": "code",
   "execution_count": 49,
   "metadata": {
    "colab": {},
    "colab_type": "code",
    "id": "vPrln0_F7XXF",
    "outputId": "1ccdf25f-4d51-4b3a-b754-2616b697495c"
   },
   "outputs": [
    {
     "data": {
      "text/html": [
       "<div>\n",
       "<style scoped>\n",
       "    .dataframe tbody tr th:only-of-type {\n",
       "        vertical-align: middle;\n",
       "    }\n",
       "\n",
       "    .dataframe tbody tr th {\n",
       "        vertical-align: top;\n",
       "    }\n",
       "\n",
       "    .dataframe thead th {\n",
       "        text-align: right;\n",
       "    }\n",
       "</style>\n",
       "<table border=\"1\" class=\"dataframe\">\n",
       "  <thead>\n",
       "    <tr style=\"text-align: right;\">\n",
       "      <th></th>\n",
       "      <th>Open</th>\n",
       "      <th>High</th>\n",
       "      <th>Low</th>\n",
       "      <th>Close</th>\n",
       "      <th>USDGBP</th>\n",
       "      <th>SP500</th>\n",
       "      <th>adjustment_factor</th>\n",
       "      <th>relative_open</th>\n",
       "      <th>relative_high</th>\n",
       "      <th>relative_low</th>\n",
       "      <th>relative_close</th>\n",
       "      <th>rebased_open</th>\n",
       "      <th>rebased_high</th>\n",
       "      <th>rebased_low</th>\n",
       "      <th>rebased_close</th>\n",
       "    </tr>\n",
       "    <tr>\n",
       "      <th>Date</th>\n",
       "      <th></th>\n",
       "      <th></th>\n",
       "      <th></th>\n",
       "      <th></th>\n",
       "      <th></th>\n",
       "      <th></th>\n",
       "      <th></th>\n",
       "      <th></th>\n",
       "      <th></th>\n",
       "      <th></th>\n",
       "      <th></th>\n",
       "      <th></th>\n",
       "      <th></th>\n",
       "      <th></th>\n",
       "      <th></th>\n",
       "    </tr>\n",
       "  </thead>\n",
       "  <tbody>\n",
       "    <tr>\n",
       "      <th>2010-01-04</th>\n",
       "      <td>15.24</td>\n",
       "      <td>15.75</td>\n",
       "      <td>15.12</td>\n",
       "      <td>15.69</td>\n",
       "      <td>0.62</td>\n",
       "      <td>113.33</td>\n",
       "      <td>70.35</td>\n",
       "      <td>0.22</td>\n",
       "      <td>0.22</td>\n",
       "      <td>0.21</td>\n",
       "      <td>0.22</td>\n",
       "      <td>15.24</td>\n",
       "      <td>15.75</td>\n",
       "      <td>15.12</td>\n",
       "      <td>15.69</td>\n",
       "    </tr>\n",
       "    <tr>\n",
       "      <th>2010-01-05</th>\n",
       "      <td>15.74</td>\n",
       "      <td>16.21</td>\n",
       "      <td>15.70</td>\n",
       "      <td>16.20</td>\n",
       "      <td>0.63</td>\n",
       "      <td>113.63</td>\n",
       "      <td>71.06</td>\n",
       "      <td>0.22</td>\n",
       "      <td>0.23</td>\n",
       "      <td>0.22</td>\n",
       "      <td>0.23</td>\n",
       "      <td>15.58</td>\n",
       "      <td>16.05</td>\n",
       "      <td>15.54</td>\n",
       "      <td>16.04</td>\n",
       "    </tr>\n",
       "  </tbody>\n",
       "</table>\n",
       "</div>"
      ],
      "text/plain": [
       "             Open   High    Low  Close  USDGBP   SP500  adjustment_factor  \\\n",
       "Date                                                                        \n",
       "2010-01-04  15.24  15.75  15.12  15.69    0.62  113.33              70.35   \n",
       "2010-01-05  15.74  16.21  15.70  16.20    0.63  113.63              71.06   \n",
       "\n",
       "            relative_open  relative_high  relative_low  relative_close  \\\n",
       "Date                                                                     \n",
       "2010-01-04           0.22           0.22          0.21            0.22   \n",
       "2010-01-05           0.22           0.23          0.22            0.23   \n",
       "\n",
       "            rebased_open  rebased_high  rebased_low  rebased_close  \n",
       "Date                                                                \n",
       "2010-01-04         15.24         15.75        15.12          15.69  \n",
       "2010-01-05         15.58         16.05        15.54          16.04  "
      ]
     },
     "execution_count": 49,
     "metadata": {},
     "output_type": "execute_result"
    }
   ],
   "source": [
    "relative_path = \"../data_modules/\"\n",
    "# Reads and imports the rebased series using the function 'read_csv'\n",
    "data = pd.read_csv(\n",
    "    relative_path + 'Jan_2010_to_Jan_2019_Rebased_Series.csv', index_col=0, parse_dates=True)\n",
    "\n",
    "# Set index in datetime format\n",
    "data.index = pd.to_datetime(data.index)\n",
    "\n",
    "# Returns the top two rows of the dataframe\n",
    "data.head(2)"
   ]
  },
  {
   "cell_type": "markdown",
   "metadata": {
    "colab_type": "text",
    "id": "HFUyOZtR7XXL"
   },
   "source": [
    "## 1. Create swings\n",
    "\n",
    "Markets are composed of local highs and lows commonly referred to as swing highs and swing lows. A bull market pauses when all-new swing highs fail to take the peak, or highest swing high. Market turns bearish when swing highs are materially lower than the peak. \n",
    "Conversely, bear market pauses when new swing lows fail to penetrate the lowest swing low or bottom. Market turns bullish when new swing lows are distinctively higher than the bottom."
   ]
  },
  {
   "cell_type": "code",
   "execution_count": 50,
   "metadata": {
    "colab": {},
    "colab_type": "code",
    "id": "2w858TLW7XXL",
    "outputId": "14a8c30c-1873-4dfa-95c4-568356c0a523"
   },
   "outputs": [
    {
     "data": {
      "text/html": [
       "<div>\n",
       "<style scoped>\n",
       "    .dataframe tbody tr th:only-of-type {\n",
       "        vertical-align: middle;\n",
       "    }\n",
       "\n",
       "    .dataframe tbody tr th {\n",
       "        vertical-align: top;\n",
       "    }\n",
       "\n",
       "    .dataframe thead th {\n",
       "        text-align: right;\n",
       "    }\n",
       "</style>\n",
       "<table border=\"1\" class=\"dataframe\">\n",
       "  <thead>\n",
       "    <tr style=\"text-align: right;\">\n",
       "      <th></th>\n",
       "      <th>rebased_high</th>\n",
       "      <th>rebased_low</th>\n",
       "      <th>rebased_close</th>\n",
       "    </tr>\n",
       "    <tr>\n",
       "      <th>Date</th>\n",
       "      <th></th>\n",
       "      <th></th>\n",
       "      <th></th>\n",
       "    </tr>\n",
       "  </thead>\n",
       "  <tbody>\n",
       "    <tr>\n",
       "      <th>2010-01-04</th>\n",
       "      <td>15.75</td>\n",
       "      <td>15.12</td>\n",
       "      <td>15.69</td>\n",
       "    </tr>\n",
       "    <tr>\n",
       "      <th>2010-01-05</th>\n",
       "      <td>16.05</td>\n",
       "      <td>15.54</td>\n",
       "      <td>16.04</td>\n",
       "    </tr>\n",
       "  </tbody>\n",
       "</table>\n",
       "</div>"
      ],
      "text/plain": [
       "            rebased_high  rebased_low  rebased_close\n",
       "Date                                                \n",
       "2010-01-04         15.75        15.12          15.69\n",
       "2010-01-05         16.05        15.54          16.04"
      ]
     },
     "execution_count": 50,
     "metadata": {},
     "output_type": "execute_result"
    }
   ],
   "source": [
    "# Create a high_low dataset\n",
    "high_low = data[['rebased_high', 'rebased_low', 'rebased_close']]\n",
    "\n",
    "# Returns the top two rows of the dataframe\n",
    "high_low.head(2)"
   ]
  },
  {
   "cell_type": "code",
   "execution_count": 51,
   "metadata": {
    "colab": {},
    "colab_type": "code",
    "id": "OUvSBn4kNtwG"
   },
   "outputs": [],
   "source": [
    "# Set the argel_window as 20\n",
    "argrel_window = 20\n",
    "\n",
    "# Create 2 lists of highs and lows using argrelextrema\n",
    "highs_list = argrelextrema(\n",
    "    high_low['rebased_high'].values, np.greater, order=argrel_window)\n",
    "lows_list = argrelextrema(\n",
    "    high_low['rebased_low'].values, np.less, order=argrel_window)"
   ]
  },
  {
   "cell_type": "code",
   "execution_count": 52,
   "metadata": {
    "colab": {},
    "colab_type": "code",
    "id": "nL-UuET7NtwJ"
   },
   "outputs": [],
   "source": [
    "# Create swing high and low columns and assign values from the lists\n",
    "# The values 0 & 1 represent the [rows,columns]\n",
    "high_low['swing_low'] = high_low.iloc[lows_list[0], 1]\n",
    "high_low['swing_high'] = high_low.iloc[highs_list[0], 0]"
   ]
  },
  {
   "cell_type": "code",
   "execution_count": 53,
   "metadata": {
    "colab": {},
    "colab_type": "code",
    "id": "ofc_ovER7XXV",
    "outputId": "f2380c94-6785-4770-ad61-9c473f94789b"
   },
   "outputs": [
    {
     "data": {
      "text/html": [
       "<div>\n",
       "<style scoped>\n",
       "    .dataframe tbody tr th:only-of-type {\n",
       "        vertical-align: middle;\n",
       "    }\n",
       "\n",
       "    .dataframe tbody tr th {\n",
       "        vertical-align: top;\n",
       "    }\n",
       "\n",
       "    .dataframe thead th {\n",
       "        text-align: right;\n",
       "    }\n",
       "</style>\n",
       "<table border=\"1\" class=\"dataframe\">\n",
       "  <thead>\n",
       "    <tr style=\"text-align: right;\">\n",
       "      <th></th>\n",
       "      <th>rebased_high</th>\n",
       "      <th>rebased_low</th>\n",
       "      <th>rebased_close</th>\n",
       "      <th>swing_low</th>\n",
       "      <th>swing_high</th>\n",
       "    </tr>\n",
       "    <tr>\n",
       "      <th>Date</th>\n",
       "      <th></th>\n",
       "      <th></th>\n",
       "      <th></th>\n",
       "      <th></th>\n",
       "      <th></th>\n",
       "    </tr>\n",
       "  </thead>\n",
       "  <tbody>\n",
       "    <tr>\n",
       "      <th>2018-12-31</th>\n",
       "      <td>8.95</td>\n",
       "      <td>8.73</td>\n",
       "      <td>8.83</td>\n",
       "      <td>NaN</td>\n",
       "      <td>NaN</td>\n",
       "    </tr>\n",
       "    <tr>\n",
       "      <th>2019-01-02</th>\n",
       "      <td>8.82</td>\n",
       "      <td>8.42</td>\n",
       "      <td>8.75</td>\n",
       "      <td>NaN</td>\n",
       "      <td>NaN</td>\n",
       "    </tr>\n",
       "  </tbody>\n",
       "</table>\n",
       "</div>"
      ],
      "text/plain": [
       "            rebased_high  rebased_low  rebased_close  swing_low  swing_high\n",
       "Date                                                                       \n",
       "2018-12-31          8.95         8.73           8.83        NaN         NaN\n",
       "2019-01-02          8.82         8.42           8.75        NaN         NaN"
      ]
     },
     "execution_count": 53,
     "metadata": {},
     "output_type": "execute_result"
    }
   ],
   "source": [
    "# Copy the already existing dataframe.\n",
    "# We will manipulate and reduce this dataframe and preserve the original\n",
    "high_low_preprocess = high_low.copy()\n",
    "\n",
    "# Returns the last two rows of the dataset\n",
    "high_low.tail(2)"
   ]
  },
  {
   "cell_type": "code",
   "execution_count": 54,
   "metadata": {
    "colab": {},
    "colab_type": "code",
    "id": "Wa1gu-zxNtwT",
    "outputId": "5b3c9c08-6061-4316-878b-a055ba43e3ce"
   },
   "outputs": [
    {
     "data": {
      "image/png": "[encoded data removed]",
      "text/plain": [
       "<Figure size 720x504 with 1 Axes>"
      ]
     },
     "metadata": {},
     "output_type": "display_data"
    }
   ],
   "source": [
    "# Plot the graph\n",
    "high_low[['rebased_close', 'swing_low', 'swing_high']].plot(\n",
    "    style=['k-', 'r*', 'g*'], figsize=(10, 7))\n",
    "plt.title('Swings', fontsize=16)\n",
    "plt.xlabel('Date', fontsize=14)\n",
    "plt.ylabel('SwingHighs_SwingLows', fontsize=14)\n",
    "\n",
    "# Add legend to the plot\n",
    "plt.legend()\n",
    "# Add grid to the plot\n",
    "plt.grid()\n",
    "# Display the graph\n",
    "plt.show()"
   ]
  },
  {
   "cell_type": "markdown",
   "metadata": {
    "colab_type": "text",
    "id": "SXBhWQl67XXa"
   },
   "source": [
    "## 2. Perform alternation\n",
    "\n",
    "In alternation, we want highs to follow lows and keep the most extreme values of the swing and eliminate the rest.\n",
    "\n",
    "This alternation sorting algorithm is more memory efficient and faster than looping through the entire set. We use a while loop and limit iterations to 5 times as we don't know how many times iterations would be required. It only loops over potential swing highs and lows and gets the job done usually in 2 loops. However, it has one drawback. We cannot join this dataframe to the original one if there are already columns with identical headers. This becomes an issue when updating the dataframe. We, therefore, need to check if columns are in the original dataframe, drop them before joining."
   ]
  },
  {
   "cell_type": "code",
   "execution_count": 55,
   "metadata": {
    "colab": {},
    "colab_type": "code",
    "id": "RIY_9WEB7XXa",
    "scrolled": true
   },
   "outputs": [],
   "source": [
    "# Create a unified column with peaks<0 and troughs>0\n",
    "high_low['swing_high_low'] = high_low['swing_low'].sub(\n",
    "    high_low['swing_high'], fill_value=0)"
   ]
  },
  {
   "cell_type": "markdown",
   "metadata": {
    "colab_type": "text",
    "id": "TNdZaSveDjYh"
   },
   "source": [
    "Step 1: The function 'dropna' drops all rows with no swings"
   ]
  },
  {
   "cell_type": "code",
   "execution_count": 56,
   "metadata": {
    "colab": {},
    "colab_type": "code",
    "id": "T9XKw7h1DjYi"
   },
   "outputs": [],
   "source": [
    "high_low = high_low.dropna(subset=['swing_high_low']).copy()"
   ]
  },
  {
   "cell_type": "markdown",
   "metadata": {
    "colab_type": "text",
    "id": "O6TcUY6xDjYn"
   },
   "source": [
    "Step 2: Eliminate all the swings low higher than highs. For comparison, compare the graphs."
   ]
  },
  {
   "cell_type": "code",
   "execution_count": 57,
   "metadata": {
    "colab": {},
    "colab_type": "code",
    "id": "tpKEDw1uDjYo"
   },
   "outputs": [],
   "source": [
    "high_low.loc[(high_low['swing_high_low'].shift(1) * high_low['swing_high_low'] < 0) &\n",
    "             (high_low['swing_high_low'].shift(1) < 0) & (np.abs(high_low['swing_high_low'].shift(1)) < high_low['swing_high_low']), 'swing_high_low'] = np.nan"
   ]
  },
  {
   "cell_type": "code",
   "execution_count": 58,
   "metadata": {
    "colab": {},
    "colab_type": "code",
    "id": "bQAsHuxxDjYq",
    "outputId": "fe5bfbc6-faa3-426d-e50f-2fd995b5ea4f"
   },
   "outputs": [
    {
     "data": {
      "text/html": [
       "<div>\n",
       "<style scoped>\n",
       "    .dataframe tbody tr th:only-of-type {\n",
       "        vertical-align: middle;\n",
       "    }\n",
       "\n",
       "    .dataframe tbody tr th {\n",
       "        vertical-align: top;\n",
       "    }\n",
       "\n",
       "    .dataframe thead th {\n",
       "        text-align: right;\n",
       "    }\n",
       "</style>\n",
       "<table border=\"1\" class=\"dataframe\">\n",
       "  <thead>\n",
       "    <tr style=\"text-align: right;\">\n",
       "      <th></th>\n",
       "      <th>rebased_high</th>\n",
       "      <th>rebased_low</th>\n",
       "      <th>rebased_close</th>\n",
       "      <th>swing_low</th>\n",
       "      <th>swing_high</th>\n",
       "      <th>swing_high_low</th>\n",
       "    </tr>\n",
       "    <tr>\n",
       "      <th>Date</th>\n",
       "      <th></th>\n",
       "      <th></th>\n",
       "      <th></th>\n",
       "      <th></th>\n",
       "      <th></th>\n",
       "      <th></th>\n",
       "    </tr>\n",
       "  </thead>\n",
       "  <tbody>\n",
       "    <tr>\n",
       "      <th>2010-01-21</th>\n",
       "      <td>17.00</td>\n",
       "      <td>15.51</td>\n",
       "      <td>15.78</td>\n",
       "      <td>NaN</td>\n",
       "      <td>17.00</td>\n",
       "      <td>-17.00</td>\n",
       "    </tr>\n",
       "    <tr>\n",
       "      <th>2010-02-12</th>\n",
       "      <td>14.84</td>\n",
       "      <td>14.57</td>\n",
       "      <td>14.74</td>\n",
       "      <td>14.57</td>\n",
       "      <td>NaN</td>\n",
       "      <td>14.57</td>\n",
       "    </tr>\n",
       "    <tr>\n",
       "      <th>2010-04-15</th>\n",
       "      <td>17.81</td>\n",
       "      <td>17.36</td>\n",
       "      <td>17.47</td>\n",
       "      <td>NaN</td>\n",
       "      <td>17.81</td>\n",
       "      <td>-17.81</td>\n",
       "    </tr>\n",
       "    <tr>\n",
       "      <th>2010-05-25</th>\n",
       "      <td>14.59</td>\n",
       "      <td>13.90</td>\n",
       "      <td>14.54</td>\n",
       "      <td>13.90</td>\n",
       "      <td>NaN</td>\n",
       "      <td>13.90</td>\n",
       "    </tr>\n",
       "    <tr>\n",
       "      <th>2010-07-15</th>\n",
       "      <td>15.52</td>\n",
       "      <td>14.89</td>\n",
       "      <td>15.22</td>\n",
       "      <td>NaN</td>\n",
       "      <td>15.52</td>\n",
       "      <td>-15.52</td>\n",
       "    </tr>\n",
       "  </tbody>\n",
       "</table>\n",
       "</div>"
      ],
      "text/plain": [
       "            rebased_high  rebased_low  rebased_close  swing_low  swing_high  \\\n",
       "Date                                                                          \n",
       "2010-01-21         17.00        15.51          15.78        NaN       17.00   \n",
       "2010-02-12         14.84        14.57          14.74      14.57         NaN   \n",
       "2010-04-15         17.81        17.36          17.47        NaN       17.81   \n",
       "2010-05-25         14.59        13.90          14.54      13.90         NaN   \n",
       "2010-07-15         15.52        14.89          15.22        NaN       15.52   \n",
       "\n",
       "            swing_high_low  \n",
       "Date                        \n",
       "2010-01-21          -17.00  \n",
       "2010-02-12           14.57  \n",
       "2010-04-15          -17.81  \n",
       "2010-05-25           13.90  \n",
       "2010-07-15          -15.52  "
      ]
     },
     "execution_count": 58,
     "metadata": {},
     "output_type": "execute_result"
    }
   ],
   "source": [
    "# Returns the top 5 rows of the dataset\n",
    "high_low.head()"
   ]
  },
  {
   "cell_type": "markdown",
   "metadata": {
    "colab_type": "text",
    "id": "HqO-q6qODjYv"
   },
   "source": [
    "Step 3: Eliminates all the earlier lower values"
   ]
  },
  {
   "cell_type": "code",
   "execution_count": 59,
   "metadata": {
    "colab": {},
    "colab_type": "code",
    "id": "mU7D-pwQDjYv"
   },
   "outputs": [],
   "source": [
    "high_low.loc[(high_low['swing_high_low'].shift(1) * high_low['swing_high_low'] > 0) &\n",
    "             (high_low['swing_high_low'].shift(1) < high_low['swing_high_low']), 'swing_high_low'] = np.nan"
   ]
  },
  {
   "cell_type": "code",
   "execution_count": 60,
   "metadata": {
    "colab": {},
    "colab_type": "code",
    "id": "3KbzXsE5DjYy",
    "outputId": "b9622cfb-e6d6-4a08-cb94-04311e77f128"
   },
   "outputs": [
    {
     "data": {
      "text/html": [
       "<div>\n",
       "<style scoped>\n",
       "    .dataframe tbody tr th:only-of-type {\n",
       "        vertical-align: middle;\n",
       "    }\n",
       "\n",
       "    .dataframe tbody tr th {\n",
       "        vertical-align: top;\n",
       "    }\n",
       "\n",
       "    .dataframe thead th {\n",
       "        text-align: right;\n",
       "    }\n",
       "</style>\n",
       "<table border=\"1\" class=\"dataframe\">\n",
       "  <thead>\n",
       "    <tr style=\"text-align: right;\">\n",
       "      <th></th>\n",
       "      <th>rebased_high</th>\n",
       "      <th>rebased_low</th>\n",
       "      <th>rebased_close</th>\n",
       "      <th>swing_low</th>\n",
       "      <th>swing_high</th>\n",
       "      <th>swing_high_low</th>\n",
       "    </tr>\n",
       "    <tr>\n",
       "      <th>Date</th>\n",
       "      <th></th>\n",
       "      <th></th>\n",
       "      <th></th>\n",
       "      <th></th>\n",
       "      <th></th>\n",
       "      <th></th>\n",
       "    </tr>\n",
       "  </thead>\n",
       "  <tbody>\n",
       "    <tr>\n",
       "      <th>2010-01-21</th>\n",
       "      <td>17.00</td>\n",
       "      <td>15.51</td>\n",
       "      <td>15.78</td>\n",
       "      <td>NaN</td>\n",
       "      <td>17.00</td>\n",
       "      <td>-17.00</td>\n",
       "    </tr>\n",
       "    <tr>\n",
       "      <th>2010-02-12</th>\n",
       "      <td>14.84</td>\n",
       "      <td>14.57</td>\n",
       "      <td>14.74</td>\n",
       "      <td>14.57</td>\n",
       "      <td>NaN</td>\n",
       "      <td>14.57</td>\n",
       "    </tr>\n",
       "    <tr>\n",
       "      <th>2010-04-15</th>\n",
       "      <td>17.81</td>\n",
       "      <td>17.36</td>\n",
       "      <td>17.47</td>\n",
       "      <td>NaN</td>\n",
       "      <td>17.81</td>\n",
       "      <td>-17.81</td>\n",
       "    </tr>\n",
       "    <tr>\n",
       "      <th>2010-05-25</th>\n",
       "      <td>14.59</td>\n",
       "      <td>13.90</td>\n",
       "      <td>14.54</td>\n",
       "      <td>13.90</td>\n",
       "      <td>NaN</td>\n",
       "      <td>13.90</td>\n",
       "    </tr>\n",
       "    <tr>\n",
       "      <th>2010-07-15</th>\n",
       "      <td>15.52</td>\n",
       "      <td>14.89</td>\n",
       "      <td>15.22</td>\n",
       "      <td>NaN</td>\n",
       "      <td>15.52</td>\n",
       "      <td>-15.52</td>\n",
       "    </tr>\n",
       "  </tbody>\n",
       "</table>\n",
       "</div>"
      ],
      "text/plain": [
       "            rebased_high  rebased_low  rebased_close  swing_low  swing_high  \\\n",
       "Date                                                                          \n",
       "2010-01-21         17.00        15.51          15.78        NaN       17.00   \n",
       "2010-02-12         14.84        14.57          14.74      14.57         NaN   \n",
       "2010-04-15         17.81        17.36          17.47        NaN       17.81   \n",
       "2010-05-25         14.59        13.90          14.54      13.90         NaN   \n",
       "2010-07-15         15.52        14.89          15.22        NaN       15.52   \n",
       "\n",
       "            swing_high_low  \n",
       "Date                        \n",
       "2010-01-21          -17.00  \n",
       "2010-02-12           14.57  \n",
       "2010-04-15          -17.81  \n",
       "2010-05-25           13.90  \n",
       "2010-07-15          -15.52  "
      ]
     },
     "execution_count": 60,
     "metadata": {},
     "output_type": "execute_result"
    }
   ],
   "source": [
    "# Returns the top 5 rows of the dataset\n",
    "high_low.head()"
   ]
  },
  {
   "cell_type": "markdown",
   "metadata": {
    "colab_type": "text",
    "id": "_B4HqHPFDjY2"
   },
   "source": [
    "Step 4: Eliminates subsequent lower values"
   ]
  },
  {
   "cell_type": "code",
   "execution_count": 61,
   "metadata": {
    "colab": {},
    "colab_type": "code",
    "id": "B2y61wNjDjY4"
   },
   "outputs": [],
   "source": [
    "high_low.loc[(high_low['swing_high_low'].shift(-1) * high_low['swing_high_low'] > 0) &\n",
    "             (high_low['swing_high_low'].shift(-1) < high_low['swing_high_low']), 'swing_high_low'] = np.nan"
   ]
  },
  {
   "cell_type": "code",
   "execution_count": 62,
   "metadata": {
    "colab": {},
    "colab_type": "code",
    "id": "xGYtSx9iDjY5",
    "outputId": "8c44f137-0be5-4a09-c9e3-a8fcdbdb1f30"
   },
   "outputs": [
    {
     "data": {
      "text/html": [
       "<div>\n",
       "<style scoped>\n",
       "    .dataframe tbody tr th:only-of-type {\n",
       "        vertical-align: middle;\n",
       "    }\n",
       "\n",
       "    .dataframe tbody tr th {\n",
       "        vertical-align: top;\n",
       "    }\n",
       "\n",
       "    .dataframe thead th {\n",
       "        text-align: right;\n",
       "    }\n",
       "</style>\n",
       "<table border=\"1\" class=\"dataframe\">\n",
       "  <thead>\n",
       "    <tr style=\"text-align: right;\">\n",
       "      <th></th>\n",
       "      <th>rebased_high</th>\n",
       "      <th>rebased_low</th>\n",
       "      <th>rebased_close</th>\n",
       "      <th>swing_low</th>\n",
       "      <th>swing_high</th>\n",
       "      <th>swing_high_low</th>\n",
       "    </tr>\n",
       "    <tr>\n",
       "      <th>Date</th>\n",
       "      <th></th>\n",
       "      <th></th>\n",
       "      <th></th>\n",
       "      <th></th>\n",
       "      <th></th>\n",
       "      <th></th>\n",
       "    </tr>\n",
       "  </thead>\n",
       "  <tbody>\n",
       "    <tr>\n",
       "      <th>2010-01-21</th>\n",
       "      <td>17.00</td>\n",
       "      <td>15.51</td>\n",
       "      <td>15.78</td>\n",
       "      <td>NaN</td>\n",
       "      <td>17.00</td>\n",
       "      <td>-17.00</td>\n",
       "    </tr>\n",
       "    <tr>\n",
       "      <th>2010-02-12</th>\n",
       "      <td>14.84</td>\n",
       "      <td>14.57</td>\n",
       "      <td>14.74</td>\n",
       "      <td>14.57</td>\n",
       "      <td>NaN</td>\n",
       "      <td>14.57</td>\n",
       "    </tr>\n",
       "    <tr>\n",
       "      <th>2010-04-15</th>\n",
       "      <td>17.81</td>\n",
       "      <td>17.36</td>\n",
       "      <td>17.47</td>\n",
       "      <td>NaN</td>\n",
       "      <td>17.81</td>\n",
       "      <td>-17.81</td>\n",
       "    </tr>\n",
       "    <tr>\n",
       "      <th>2010-05-25</th>\n",
       "      <td>14.59</td>\n",
       "      <td>13.90</td>\n",
       "      <td>14.54</td>\n",
       "      <td>13.90</td>\n",
       "      <td>NaN</td>\n",
       "      <td>13.90</td>\n",
       "    </tr>\n",
       "    <tr>\n",
       "      <th>2010-07-15</th>\n",
       "      <td>15.52</td>\n",
       "      <td>14.89</td>\n",
       "      <td>15.22</td>\n",
       "      <td>NaN</td>\n",
       "      <td>15.52</td>\n",
       "      <td>-15.52</td>\n",
       "    </tr>\n",
       "  </tbody>\n",
       "</table>\n",
       "</div>"
      ],
      "text/plain": [
       "            rebased_high  rebased_low  rebased_close  swing_low  swing_high  \\\n",
       "Date                                                                          \n",
       "2010-01-21         17.00        15.51          15.78        NaN       17.00   \n",
       "2010-02-12         14.84        14.57          14.74      14.57         NaN   \n",
       "2010-04-15         17.81        17.36          17.47        NaN       17.81   \n",
       "2010-05-25         14.59        13.90          14.54      13.90         NaN   \n",
       "2010-07-15         15.52        14.89          15.22        NaN       15.52   \n",
       "\n",
       "            swing_high_low  \n",
       "Date                        \n",
       "2010-01-21          -17.00  \n",
       "2010-02-12           14.57  \n",
       "2010-04-15          -17.81  \n",
       "2010-05-25           13.90  \n",
       "2010-07-15          -15.52  "
      ]
     },
     "execution_count": 62,
     "metadata": {},
     "output_type": "execute_result"
    }
   ],
   "source": [
    "# Returns the top 5 rows of the dataset\n",
    "high_low.head()"
   ]
  },
  {
   "cell_type": "code",
   "execution_count": 63,
   "metadata": {
    "colab": {},
    "colab_type": "code",
    "id": "OfFT-qJkDjY_",
    "outputId": "1d8b6ff3-3a89-4252-90d1-13aa79bfc724"
   },
   "outputs": [
    {
     "data": {
      "text/html": [
       "<div>\n",
       "<style scoped>\n",
       "    .dataframe tbody tr th:only-of-type {\n",
       "        vertical-align: middle;\n",
       "    }\n",
       "\n",
       "    .dataframe tbody tr th {\n",
       "        vertical-align: top;\n",
       "    }\n",
       "\n",
       "    .dataframe thead th {\n",
       "        text-align: right;\n",
       "    }\n",
       "</style>\n",
       "<table border=\"1\" class=\"dataframe\">\n",
       "  <thead>\n",
       "    <tr style=\"text-align: right;\">\n",
       "      <th></th>\n",
       "      <th>rebased_high</th>\n",
       "      <th>rebased_low</th>\n",
       "      <th>rebased_close</th>\n",
       "      <th>swing_low</th>\n",
       "      <th>swing_high</th>\n",
       "      <th>swing_high_low</th>\n",
       "    </tr>\n",
       "    <tr>\n",
       "      <th>Date</th>\n",
       "      <th></th>\n",
       "      <th></th>\n",
       "      <th></th>\n",
       "      <th></th>\n",
       "      <th></th>\n",
       "      <th></th>\n",
       "    </tr>\n",
       "  </thead>\n",
       "  <tbody>\n",
       "    <tr>\n",
       "      <th>2010-01-21</th>\n",
       "      <td>17.00</td>\n",
       "      <td>15.51</td>\n",
       "      <td>15.78</td>\n",
       "      <td>NaN</td>\n",
       "      <td>17.00</td>\n",
       "      <td>-17.00</td>\n",
       "    </tr>\n",
       "    <tr>\n",
       "      <th>2010-02-12</th>\n",
       "      <td>14.84</td>\n",
       "      <td>14.57</td>\n",
       "      <td>14.74</td>\n",
       "      <td>14.57</td>\n",
       "      <td>NaN</td>\n",
       "      <td>14.57</td>\n",
       "    </tr>\n",
       "    <tr>\n",
       "      <th>2010-04-15</th>\n",
       "      <td>17.81</td>\n",
       "      <td>17.36</td>\n",
       "      <td>17.47</td>\n",
       "      <td>NaN</td>\n",
       "      <td>17.81</td>\n",
       "      <td>-17.81</td>\n",
       "    </tr>\n",
       "    <tr>\n",
       "      <th>2010-05-25</th>\n",
       "      <td>14.59</td>\n",
       "      <td>13.90</td>\n",
       "      <td>14.54</td>\n",
       "      <td>13.90</td>\n",
       "      <td>NaN</td>\n",
       "      <td>13.90</td>\n",
       "    </tr>\n",
       "    <tr>\n",
       "      <th>2010-07-15</th>\n",
       "      <td>15.52</td>\n",
       "      <td>14.89</td>\n",
       "      <td>15.22</td>\n",
       "      <td>NaN</td>\n",
       "      <td>15.52</td>\n",
       "      <td>-15.52</td>\n",
       "    </tr>\n",
       "  </tbody>\n",
       "</table>\n",
       "</div>"
      ],
      "text/plain": [
       "            rebased_high  rebased_low  rebased_close  swing_low  swing_high  \\\n",
       "Date                                                                          \n",
       "2010-01-21         17.00        15.51          15.78        NaN       17.00   \n",
       "2010-02-12         14.84        14.57          14.74      14.57         NaN   \n",
       "2010-04-15         17.81        17.36          17.47        NaN       17.81   \n",
       "2010-05-25         14.59        13.90          14.54      13.90         NaN   \n",
       "2010-07-15         15.52        14.89          15.22        NaN       15.52   \n",
       "\n",
       "            swing_high_low  \n",
       "Date                        \n",
       "2010-01-21          -17.00  \n",
       "2010-02-12           14.57  \n",
       "2010-04-15          -17.81  \n",
       "2010-05-25           13.90  \n",
       "2010-07-15          -15.52  "
      ]
     },
     "execution_count": 63,
     "metadata": {},
     "output_type": "execute_result"
    }
   ],
   "source": [
    "#Reduce the dataframe\n",
    "high_low = high_low.dropna(subset=['swing_high_low']).copy()\n",
    "\n",
    "# Returns the top 5 rows of the dataset\n",
    "high_low.head()"
   ]
  },
  {
   "cell_type": "markdown",
   "metadata": {
    "colab_type": "text",
    "id": "aadzEk8mDjZF"
   },
   "source": [
    "### Looping all the four steps in a while loop:\n",
    "1. Drop all rows with no swings using the function 'dropna' \n",
    "2. Eliminate all the swings low higher than highs. For comparison, compare the graphs.\n",
    "3. Eliminates all the earlier lower values\n",
    "4. Eliminates subsequent lower values\n",
    "\n",
    "\n",
    "We want the swing highs to be followed by swing lows and only want to keep the extreme values. At times, during a bull run, swing highs are followed by swing highs. We have to eliminate such repeated swing highs and lows using a while loop.\n",
    "\n",
    "The objective is to alternate highs and lows efficiently. So, we create a unified column. Highs are negative and Lows are positive. We have to make sure the sign of the product of two consecutive values is negative and look for the lowest value for the lows and highs. We do not know how many times we will have to loop. We, therefore, use a while loop and limit iterations to 5 times. We eliminate every row with NaN values. We iterate until all NaN has disappeared."
   ]
  },
  {
   "cell_type": "code",
   "execution_count": 64,
   "metadata": {
    "colab": {},
    "colab_type": "code",
    "id": "Z6_8sQoRNtwV"
   },
   "outputs": [],
   "source": [
    "# Instantiate start\n",
    "i = 0\n",
    "# Drop all rows with no swing\n",
    "high_low = high_low.dropna(subset=['swing_high_low']).copy()\n",
    "\n",
    "while ((high_low['swing_high_low'].shift(1) * high_low['swing_high_low'] > 0)).any():\n",
    "    # Eliminate the lows higher than highs\n",
    "    high_low.loc[(high_low['swing_high_low'].shift(1) * high_low['swing_high_low'] < 0) &\n",
    "                 (high_low['swing_high_low'].shift(1) < 0) & (np.abs(high_low['swing_high_low'].shift(1)) < high_low['swing_high_low']), 'swing_high_low'] = np.nan\n",
    "    # Eliminates earlier lower values\n",
    "    high_low.loc[(high_low['swing_high_low'].shift(1) * high_low['swing_high_low'] > 0) &\n",
    "                 (high_low['swing_high_low'].shift(1) < high_low['swing_high_low']), 'swing_high_low'] = np.nan\n",
    "    # Eliminates subsequent lower values\n",
    "    high_low.loc[(high_low['swing_high_low'].shift(-1) * high_low['swing_high_low'] > 0) &\n",
    "                 (high_low['swing_high_low'].shift(-1) < high_low['swing_high_low']), 'swing_high_low'] = np.nan\n",
    "    # Reduce the dataframe\n",
    "    high_low = high_low.dropna(subset=['swing_high_low']).copy()\n",
    "    i += 1\n",
    "    # Avoid infinite loop\n",
    "    if i == 4:\n",
    "        break"
   ]
  },
  {
   "cell_type": "code",
   "execution_count": 65,
   "metadata": {
    "colab": {},
    "colab_type": "code",
    "id": "BPw3cWCtDjZN",
    "outputId": "6fb4c0e1-59d6-40ec-d135-7c636d99bdf5"
   },
   "outputs": [
    {
     "data": {
      "text/html": [
       "<div>\n",
       "<style scoped>\n",
       "    .dataframe tbody tr th:only-of-type {\n",
       "        vertical-align: middle;\n",
       "    }\n",
       "\n",
       "    .dataframe tbody tr th {\n",
       "        vertical-align: top;\n",
       "    }\n",
       "\n",
       "    .dataframe thead th {\n",
       "        text-align: right;\n",
       "    }\n",
       "</style>\n",
       "<table border=\"1\" class=\"dataframe\">\n",
       "  <thead>\n",
       "    <tr style=\"text-align: right;\">\n",
       "      <th></th>\n",
       "      <th>rebased_high</th>\n",
       "      <th>rebased_low</th>\n",
       "      <th>rebased_close</th>\n",
       "      <th>swing_low</th>\n",
       "      <th>swing_high</th>\n",
       "      <th>swing_high_low</th>\n",
       "    </tr>\n",
       "    <tr>\n",
       "      <th>Date</th>\n",
       "      <th></th>\n",
       "      <th></th>\n",
       "      <th></th>\n",
       "      <th></th>\n",
       "      <th></th>\n",
       "      <th></th>\n",
       "    </tr>\n",
       "  </thead>\n",
       "  <tbody>\n",
       "    <tr>\n",
       "      <th>2010-01-21</th>\n",
       "      <td>17.00</td>\n",
       "      <td>15.51</td>\n",
       "      <td>15.78</td>\n",
       "      <td>NaN</td>\n",
       "      <td>17.00</td>\n",
       "      <td>-17.00</td>\n",
       "    </tr>\n",
       "    <tr>\n",
       "      <th>2010-02-12</th>\n",
       "      <td>14.84</td>\n",
       "      <td>14.57</td>\n",
       "      <td>14.74</td>\n",
       "      <td>14.57</td>\n",
       "      <td>NaN</td>\n",
       "      <td>14.57</td>\n",
       "    </tr>\n",
       "    <tr>\n",
       "      <th>2010-04-15</th>\n",
       "      <td>17.81</td>\n",
       "      <td>17.36</td>\n",
       "      <td>17.47</td>\n",
       "      <td>NaN</td>\n",
       "      <td>17.81</td>\n",
       "      <td>-17.81</td>\n",
       "    </tr>\n",
       "    <tr>\n",
       "      <th>2010-05-25</th>\n",
       "      <td>14.59</td>\n",
       "      <td>13.90</td>\n",
       "      <td>14.54</td>\n",
       "      <td>13.90</td>\n",
       "      <td>NaN</td>\n",
       "      <td>13.90</td>\n",
       "    </tr>\n",
       "    <tr>\n",
       "      <th>2010-07-15</th>\n",
       "      <td>15.52</td>\n",
       "      <td>14.89</td>\n",
       "      <td>15.22</td>\n",
       "      <td>NaN</td>\n",
       "      <td>15.52</td>\n",
       "      <td>-15.52</td>\n",
       "    </tr>\n",
       "  </tbody>\n",
       "</table>\n",
       "</div>"
      ],
      "text/plain": [
       "            rebased_high  rebased_low  rebased_close  swing_low  swing_high  \\\n",
       "Date                                                                          \n",
       "2010-01-21         17.00        15.51          15.78        NaN       17.00   \n",
       "2010-02-12         14.84        14.57          14.74      14.57         NaN   \n",
       "2010-04-15         17.81        17.36          17.47        NaN       17.81   \n",
       "2010-05-25         14.59        13.90          14.54      13.90         NaN   \n",
       "2010-07-15         15.52        14.89          15.22        NaN       15.52   \n",
       "\n",
       "            swing_high_low  \n",
       "Date                        \n",
       "2010-01-21          -17.00  \n",
       "2010-02-12           14.57  \n",
       "2010-04-15          -17.81  \n",
       "2010-05-25           13.90  \n",
       "2010-07-15          -15.52  "
      ]
     },
     "execution_count": 65,
     "metadata": {},
     "output_type": "execute_result"
    }
   ],
   "source": [
    "# Returns the top 5 rows of the dataset\n",
    "high_low.head()"
   ]
  },
  {
   "cell_type": "code",
   "execution_count": 66,
   "metadata": {
    "colab": {},
    "colab_type": "code",
    "id": "3aLpiz4RNtwX"
   },
   "outputs": [],
   "source": [
    "# Join with existing dataframe as pandas cannot join columns with the same headers\n",
    "# Check if the columns are in the dataframe\n",
    "if 'swing_low' in data.columns:\n",
    "     # If so, drop them\n",
    "    data.drop(['swing_low', 'swing_high'], axis=1, inplace=True)\n",
    "# Then, join swing high lows\n",
    "data = data.join(high_low[['swing_low', 'swing_high']])"
   ]
  },
  {
   "cell_type": "code",
   "execution_count": 67,
   "metadata": {
    "colab": {},
    "colab_type": "code",
    "id": "YvR5HqPO1SqJ",
    "outputId": "fb880ca1-536e-41ec-eae5-db28e57b5a3e"
   },
   "outputs": [
    {
     "data": {
      "text/html": [
       "<div>\n",
       "<style scoped>\n",
       "    .dataframe tbody tr th:only-of-type {\n",
       "        vertical-align: middle;\n",
       "    }\n",
       "\n",
       "    .dataframe tbody tr th {\n",
       "        vertical-align: top;\n",
       "    }\n",
       "\n",
       "    .dataframe thead th {\n",
       "        text-align: right;\n",
       "    }\n",
       "</style>\n",
       "<table border=\"1\" class=\"dataframe\">\n",
       "  <thead>\n",
       "    <tr style=\"text-align: right;\">\n",
       "      <th></th>\n",
       "      <th>Open</th>\n",
       "      <th>High</th>\n",
       "      <th>Low</th>\n",
       "      <th>Close</th>\n",
       "      <th>USDGBP</th>\n",
       "      <th>SP500</th>\n",
       "      <th>adjustment_factor</th>\n",
       "      <th>relative_open</th>\n",
       "      <th>relative_high</th>\n",
       "      <th>relative_low</th>\n",
       "      <th>relative_close</th>\n",
       "      <th>rebased_open</th>\n",
       "      <th>rebased_high</th>\n",
       "      <th>rebased_low</th>\n",
       "      <th>rebased_close</th>\n",
       "      <th>swing_low</th>\n",
       "      <th>swing_high</th>\n",
       "    </tr>\n",
       "    <tr>\n",
       "      <th>Date</th>\n",
       "      <th></th>\n",
       "      <th></th>\n",
       "      <th></th>\n",
       "      <th></th>\n",
       "      <th></th>\n",
       "      <th></th>\n",
       "      <th></th>\n",
       "      <th></th>\n",
       "      <th></th>\n",
       "      <th></th>\n",
       "      <th></th>\n",
       "      <th></th>\n",
       "      <th></th>\n",
       "      <th></th>\n",
       "      <th></th>\n",
       "      <th></th>\n",
       "      <th></th>\n",
       "    </tr>\n",
       "  </thead>\n",
       "  <tbody>\n",
       "    <tr>\n",
       "      <th>2010-01-04</th>\n",
       "      <td>15.24</td>\n",
       "      <td>15.75</td>\n",
       "      <td>15.12</td>\n",
       "      <td>15.69</td>\n",
       "      <td>0.62</td>\n",
       "      <td>113.33</td>\n",
       "      <td>70.35</td>\n",
       "      <td>0.22</td>\n",
       "      <td>0.22</td>\n",
       "      <td>0.21</td>\n",
       "      <td>0.22</td>\n",
       "      <td>15.24</td>\n",
       "      <td>15.75</td>\n",
       "      <td>15.12</td>\n",
       "      <td>15.69</td>\n",
       "      <td>NaN</td>\n",
       "      <td>NaN</td>\n",
       "    </tr>\n",
       "    <tr>\n",
       "      <th>2010-01-05</th>\n",
       "      <td>15.74</td>\n",
       "      <td>16.21</td>\n",
       "      <td>15.70</td>\n",
       "      <td>16.20</td>\n",
       "      <td>0.63</td>\n",
       "      <td>113.63</td>\n",
       "      <td>71.06</td>\n",
       "      <td>0.22</td>\n",
       "      <td>0.23</td>\n",
       "      <td>0.22</td>\n",
       "      <td>0.23</td>\n",
       "      <td>15.58</td>\n",
       "      <td>16.05</td>\n",
       "      <td>15.54</td>\n",
       "      <td>16.04</td>\n",
       "      <td>NaN</td>\n",
       "      <td>NaN</td>\n",
       "    </tr>\n",
       "  </tbody>\n",
       "</table>\n",
       "</div>"
      ],
      "text/plain": [
       "             Open   High    Low  Close  USDGBP   SP500  adjustment_factor  \\\n",
       "Date                                                                        \n",
       "2010-01-04  15.24  15.75  15.12  15.69    0.62  113.33              70.35   \n",
       "2010-01-05  15.74  16.21  15.70  16.20    0.63  113.63              71.06   \n",
       "\n",
       "            relative_open  relative_high  relative_low  relative_close  \\\n",
       "Date                                                                     \n",
       "2010-01-04           0.22           0.22          0.21            0.22   \n",
       "2010-01-05           0.22           0.23          0.22            0.23   \n",
       "\n",
       "            rebased_open  rebased_high  rebased_low  rebased_close  swing_low  \\\n",
       "Date                                                                            \n",
       "2010-01-04         15.24         15.75        15.12          15.69        NaN   \n",
       "2010-01-05         15.58         16.05        15.54          16.04        NaN   \n",
       "\n",
       "            swing_high  \n",
       "Date                    \n",
       "2010-01-04         NaN  \n",
       "2010-01-05         NaN  "
      ]
     },
     "execution_count": 67,
     "metadata": {},
     "output_type": "execute_result"
    }
   ],
   "source": [
    "# Returns the top two rows of the dataset\n",
    "data.head(2)"
   ]
  },
  {
   "cell_type": "markdown",
   "metadata": {
    "colab_type": "text",
    "id": "s69K2ROn7XXf"
   },
   "source": [
    "## 3. Perform adjustment\n",
    "\n",
    "The method finds an extreme and will reset only after the number of set periods elapses. This means it can find a swing high that would be lower than the current price. This only happens with the latest swing. We, therefore, need to make a manual adjustment. "
   ]
  },
  {
   "cell_type": "code",
   "execution_count": 68,
   "metadata": {
    "colab": {},
    "colab_type": "code",
    "id": "Me6fvMdQ7XXg"
   },
   "outputs": [],
   "source": [
    "# Prepare for the Last swing adjustment, if the last_sign <0: swing high, if > 0 swing low\n",
    "last_swing = np.sign(high_low['swing_high_low'][-1])"
   ]
  },
  {
   "cell_type": "code",
   "execution_count": 69,
   "metadata": {
    "colab": {},
    "colab_type": "code",
    "id": "1V9fDnVK7XXh"
   },
   "outputs": [],
   "source": [
    "# Instantiate last swing high and low dates\n",
    "last_swing_low_dates = data[data['swing_low'] > 0].index.max()\n",
    "last_swing_high_dates = data[data['swing_high'] > 0].index.max()"
   ]
  },
  {
   "cell_type": "code",
   "execution_count": 70,
   "metadata": {
    "colab": {},
    "colab_type": "code",
    "id": "aFjfbUBk1SqW",
    "outputId": "780ee8f6-6a3c-4745-cb97-8a7e8636d639"
   },
   "outputs": [
    {
     "name": "stdout",
     "output_type": "stream",
     "text": [
      "2018-12-10 00:00:00\n"
     ]
    }
   ],
   "source": [
    "# Print the last swing low dates\n",
    "print(last_swing_low_dates)"
   ]
  },
  {
   "cell_type": "code",
   "execution_count": 71,
   "metadata": {
    "colab": {},
    "colab_type": "code",
    "id": "mkizSI9v1SqZ",
    "outputId": "455c55f3-059f-4ebf-f6e3-245a7f58a127"
   },
   "outputs": [
    {
     "name": "stdout",
     "output_type": "stream",
     "text": [
      "2018-07-30 00:00:00\n"
     ]
    }
   ],
   "source": [
    "# Print the last swing high dates\n",
    "print(last_swing_high_dates)"
   ]
  },
  {
   "cell_type": "markdown",
   "metadata": {
    "colab_type": "text",
    "id": "ck3jnoAft8_O"
   },
   "source": [
    "Test for extreme values:"
   ]
  },
  {
   "cell_type": "code",
   "execution_count": 72,
   "metadata": {
    "colab": {},
    "colab_type": "code",
    "id": "_c--E4MMt8_P"
   },
   "outputs": [],
   "source": [
    "# Swing_high_date is not equal to highest high date since swing_low\n",
    "if (last_swing == -1) & (last_swing_high_dates != data[last_swing_low_dates:]['swing_high'].idxmax()):\n",
    "    # Reset swing_high to NaN\n",
    "    data.loc[last_swing_high_dates, 'swing_high'] = np.nan\n",
    "# Swing_high_date is not equal to highest high date since swing_low\n",
    "elif (last_swing == 1) & (last_swing_low_dates != data[last_swing_high_dates:]['swing_low'].idxmax()):\n",
    "    # Reset swing_low to NaN\n",
    "    data.loc[last_swing_low_dates, 'swing_low'] = np.nan"
   ]
  },
  {
   "cell_type": "markdown",
   "metadata": {
    "colab_type": "text",
    "id": "6P-1Nk2Q7XXn"
   },
   "source": [
    "## 4. Compare graphs\n",
    "\n",
    "Plot and compare the three graphs:\n",
    "1. Dataframe with raw swing highs and lows\n",
    "2. Dataframe after alternation\n",
    "3. Dataframe after adjustments and joining"
   ]
  },
  {
   "cell_type": "code",
   "execution_count": 73,
   "metadata": {
    "colab": {},
    "colab_type": "code",
    "id": "tQ8TfBpk7XXo",
    "outputId": "7ae5f3e7-598d-4ee3-a494-64ea127687ee",
    "scrolled": true
   },
   "outputs": [
    {
     "data": {
      "image/png": "[encoded data removed]",
      "text/plain": [
       "<Figure size 720x504 with 1 Axes>"
      ]
     },
     "metadata": {},
     "output_type": "display_data"
    },
    {
     "data": {
      "image/png": "[encoded data removed]",
      "text/plain": [
       "<Figure size 720x504 with 1 Axes>"
      ]
     },
     "metadata": {},
     "output_type": "display_data"
    },
    {
     "data": {
      "image/png": "[encoded data removed]",
      "text/plain": [
       "<Figure size 720x504 with 1 Axes>"
      ]
     },
     "metadata": {},
     "output_type": "display_data"
    }
   ],
   "source": [
    "# This is the dataframe with raw swing highs and lows.\n",
    "high_low_preprocess[['rebased_close', 'swing_low', 'swing_high']].plot(\n",
    "    style=['k-', 'r*', 'g*'], figsize=(10, 7))\n",
    "\n",
    "# This is the high_low dataframe after the alternation process\n",
    "high_low[['rebased_close', 'swing_low', 'swing_high']].plot(\n",
    "    style=['k-', 'r*', 'g*'], figsize=(10, 7))\n",
    "\n",
    "# This is the main dataframe after joining. Note the adjustments: consecutive lows/highs, lows<highs and last swing\n",
    "data[['rebased_close', 'swing_low', 'swing_high']].plot(\n",
    "    style=['k-', 'r*', 'g*'], figsize=(10, 7))\n",
    "plt.show()"
   ]
  },
  {
   "cell_type": "markdown",
   "metadata": {
    "colab_type": "text",
    "id": "_I6t-SJR7XXr"
   },
   "source": [
    "## Create a swing function:"
   ]
  },
  {
   "cell_type": "markdown",
   "metadata": {
    "colab_type": "text",
    "id": "1qTBbsF61Sqs"
   },
   "source": [
    "All the three steps i.e.\n",
    "1. Create swings\n",
    "2. Alternation\n",
    "3. And, last swing adjustment\n",
    "\n",
    "can be put down together by creating a swings function, 'swings'. Let's learn how to calculate a swings function.\n",
    "\n",
    "        '''\n",
    "        df: relative series dataframe \n",
    "        high: dataframe's high\n",
    "        low:  dataframe's low\n",
    "        argel window: default 20 for daily bars\n",
    "        '''\n"
   ]
  },
  {
   "cell_type": "code",
   "execution_count": 74,
   "metadata": {
    "colab": {},
    "colab_type": "code",
    "id": "sZFx_4JrNtwc"
   },
   "outputs": [],
   "source": [
    "def swings(df, high, low, argrel_window):\n",
    "\n",
    "    # Create swings:\n",
    "\n",
    "    # Step 1: copy existing df. We will manipulate and reduce this df and want to preserve the original\n",
    "    high_low = df[[high, low]].copy()\n",
    "\n",
    "    # Step 2: build 2 lists of highs and lows using argrelextrema\n",
    "    highs_list = argrelextrema(\n",
    "        high_low[high].values, np.greater, order=argrel_window)\n",
    "    lows_list = argrelextrema(\n",
    "        high_low[low].values, np.less, order=argrel_window)\n",
    "\n",
    "    # Step 3: Create swing high and low columns and assign values from the lists\n",
    "    swing_high = 's' + str(high)[-12:]\n",
    "    swing_low = 's' + str(low)[-12:]\n",
    "    high_low[swing_low] = high_low.iloc[lows_list[0], 1]\n",
    "    high_low[swing_high] = high_low.iloc[highs_list[0], 0]\n",
    "\n",
    "# Alternation: We want highs to follow lows and keep the most extreme values\n",
    "\n",
    "    # Step 4. Create a unified column with peaks<0 and troughs>0\n",
    "    swing_high_low = str(high)[:2]+str(low)[:2]\n",
    "    high_low[swing_high_low] = high_low[swing_low].sub(\n",
    "        high_low[swing_high], fill_value=0)\n",
    "\n",
    "    # Step 5: Reduce dataframe and alternation loop\n",
    "    # Instantiate start\n",
    "    i = 0\n",
    "    # Drops all rows with no swing\n",
    "    high_low = high_low.dropna(subset=[swing_high_low]).copy()\n",
    "    while ((high_low[swing_high_low].shift(1) * high_low[swing_high_low] > 0)).any():\n",
    "        # eliminate lows higher than highs\n",
    "        high_low.loc[(high_low[swing_high_low].shift(1) * high_low[swing_high_low] < 0) &\n",
    "                     (high_low[swing_high_low].shift(1) < 0) & (np.abs(high_low[swing_high_low].shift(1)) < high_low[swing_high_low]), swing_high_low] = np.nan\n",
    "        # eliminate earlier lower values\n",
    "        high_low.loc[(high_low[swing_high_low].shift(1) * high_low[swing_high_low] > 0) & (\n",
    "            high_low[swing_high_low].shift(1) < high_low[swing_high_low]), swing_high_low] = np.nan\n",
    "        # eliminate subsequent lower values\n",
    "        high_low.loc[(high_low[swing_high_low].shift(-1) * high_low[swing_high_low] > 0) & (\n",
    "            high_low[swing_high_low].shift(-1) < high_low[swing_high_low]), swing_high_low] = np.nan\n",
    "        # reduce dataframe\n",
    "        high_low = high_low.dropna(subset=[swing_high_low]).copy()\n",
    "        i += 1\n",
    "        if i == 4:  # avoid infinite loop\n",
    "            break\n",
    "\n",
    "    # Step 6: Join with existing dataframe as pandas cannot join columns with the same headers\n",
    "    # First, we check if the columns are in the dataframe\n",
    "    if swing_low in df.columns:\n",
    "        # If so, drop them\n",
    "        df.drop([swing_low, swing_high], axis=1, inplace=True)\n",
    "    # Then, join columns\n",
    "    df = df.join(high_low[[swing_low, swing_high]])\n",
    "\n",
    "# Last swing adjustment:\n",
    "\n",
    "    # Step 7: Preparation for the Last swing adjustment\n",
    "    high_low[swing_high_low] = np.where(\n",
    "        np.isnan(high_low[swing_high_low]), 0, high_low[swing_high_low])\n",
    "    # If last_sign <0: swing high, if > 0 swing low\n",
    "    last_sign = np.sign(high_low[swing_high_low][-1])\n",
    "\n",
    "    # Step 8: Instantiate last swing high and low dates\n",
    "    last_slo_dt = df[df[swing_low] > 0].index.max()\n",
    "    last_shi_dt = df[df[swing_high] > 0].index.max()\n",
    "\n",
    "    # Step 9: Test for extreme values\n",
    "    if (last_sign == -1) & (last_shi_dt != df[last_slo_dt:][swing_high].idxmax()):\n",
    "            # Reset swing_high to nan\n",
    "        df.loc[last_shi_dt, swing_high] = np.nan\n",
    "    elif (last_sign == 1) & (last_slo_dt != df[last_shi_dt:][swing_low].idxmax()):\n",
    "        # Reset swing_low to nan\n",
    "        df.loc[last_slo_dt, swing_low] = np.nan\n",
    "\n",
    "    return (df)"
   ]
  },
  {
   "cell_type": "code",
   "execution_count": 75,
   "metadata": {
    "colab": {},
    "colab_type": "code",
    "id": "fh34UEEh7XXu",
    "outputId": "0329251b-c931-4214-ab7d-430be01bc759"
   },
   "outputs": [
    {
     "data": {
      "image/png": "[encoded data removed]",
      "text/plain": [
       "<Figure size 720x504 with 1 Axes>"
      ]
     },
     "metadata": {},
     "output_type": "display_data"
    }
   ],
   "source": [
    "# Plot the graphs\n",
    "data = swings(df=data, high='High', low='Low', argrel_window=20)\n",
    "data = swings(df=data, high='rebased_high',\n",
    "              low='rebased_low', argrel_window=20)\n",
    "data[['Close', 'sLow', 'sHigh', 'rebased_close', 'srebased_low', 'srebased_high']].plot(\n",
    "    style=['k:', 'r*', 'g*', 'k-', 'r*', 'g*'], figsize=(10, 7))\n",
    "plt.show()"
   ]
  },
  {
   "cell_type": "markdown",
   "metadata": {
    "colab_type": "text",
    "id": "CKZGCKqVA42S"
   },
   "source": [
    "## Conclusion\n",
    "\n",
    "The swing high and low method can be applied to identifying the trends in the market. The swing high and low methods can help you to identify mainly the support and resistance levels. Using the above information you can easily trade the downtrend or even the uptrend when the regime direction changes.\n",
    "\n",
    "In the next notebook, we will learn how to use these swing highs and lows to calculate the distance between the subsequent peak and trough in units of volatility.\n",
    "</span> <BR><BR>\n"
   ]
  }
 ],
 "metadata": {
  "colab": {
   "collapsed_sections": [
    "aadzEk8mDjZF"
   ],
   "name": "Swings.ipynb",
   "provenance": []
  },
  "kernelspec": {
   "display_name": "Python 3",
   "language": "python",
   "name": "python3"
  },
  "language_info": {
   "codemirror_mode": {
    "name": "ipython",
    "version": 3
   },
   "file_extension": ".py",
   "mimetype": "text/x-python",
   "name": "python",
   "nbconvert_exporter": "python",
   "pygments_lexer": "ipython3",
   "version": "3.6.5"
  }
 },
 "nbformat": 4,
 "nbformat_minor": 1
}
