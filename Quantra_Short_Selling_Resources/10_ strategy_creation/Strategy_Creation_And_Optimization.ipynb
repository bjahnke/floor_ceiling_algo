{
 "cells": [
  {
   "cell_type": "markdown",
   "metadata": {
    "colab_type": "text",
    "id": "1f4BYu0S_-5M"
   },
   "source": [
    "# Notebook Instructions\n",
    "<i>You can run the notebook document sequentially (one cell at a time) by pressing <b> shift + enter</b>. While a cell is running, a [*] will display on the left. When it has been run, a number will display indicating the order in which it was run in the notebook [8].</i>\n",
    "\n",
    "<i>Enter edit mode by pressing <b>`Enter`</b> or using the mouse to click on a cell's editor area. Edit mode is indicated by a green cell border and a prompt showing in the editor area.</i> <BR>\n",
    "    \n",
    "This course is based on specific versions of python packages. You can find the details of the same in <a href='https://quantra.quantinsti.com/quantra-notebook' target=\"_blank\" >this manual</a>. The manual also explains how to use these codes in other versions of python packages. <BR>"
   ]
  },
  {
   "cell_type": "markdown",
   "metadata": {
    "colab_type": "text",
    "id": "NhPxrZJX_-5R"
   },
   "source": [
    "# Strategy Creation and Optimization\n",
    "\n",
    "Every strategy boils down to this formula:\n",
    "Gain Expectancy = Trading edge = Win% * avg win% - Loss% * abs(avg loss%)\n",
    "This formula has two parts:\n",
    "1. Signal module: win% and loss% \n",
    "2. Money management module: avg win% and avg loss%\n",
    "\n",
    "In part 1 of this course, we have learned so far:\n",
    "1. How to restate absolute prices relative to an index and a pivot currency\n",
    "2. How to calculate returns and cumulative returns.\n",
    "3. Several methods to define regime: breakout, moving averages crosses and floor & ceiling\n",
    "\n",
    "\n",
    "In part 2, \n",
    "1. We will create a strategy by blending the three regime definition methodologies into a Long/Short strategy\n",
    "2. We will define a few risk metrics that specifically test the robustness.\n",
    "3. We will optimise over a few variables on a single security. This will conclude the signal module of the strategy\n",
    "4. Finally, we will look at the money management side of the strategy with a few position sizing algorithms\n",
    "\n",
    "\n",
    "This notebook is divided into two parts:\n",
    "1. Strategy Creation\n",
    "2. and, Strategy Optimization"
   ]
  },
  {
   "cell_type": "markdown",
   "metadata": {
    "colab_type": "text",
    "id": "9OLfvbM4_-5T"
   },
   "source": [
    "## Strategy Creation\n",
    "Objectives:\n",
    "We want a regime definition that has the following attributes:\n",
    "1. Stability: We do not want a jumpy method. This increases transaction costs, slippage. This excludes MA crosses. \n",
    "2. Limited lag: We want a strategy that identifies inflections as early as possible. This excludes breakouts. \n",
    "3. Weathers sideways markets: Market participants make money in the bull & bear markets, but end up giving back some in sideways markets. Our objective is to minimise drawdowns. \n",
    "\n",
    "By elimination, the Floor & Ceiling method seems to be the default candidate:\n",
    "1. Floor/Ceiling is stable\n",
    "2. Regime changes from bull to bear on a high and on a low for bear to bull\n",
    "3. Floor/Ceiling does not react to range-bound markets where lows and highs are at similar levels\n"
   ]
  },
  {
   "cell_type": "markdown",
   "metadata": {
    "colab_type": "text",
    "id": "6hth3Db1_-5X"
   },
   "source": [
    "Next, we will focus on signals:\n",
    "The logical candidate is short-term & mid-term moving averages cross. It enables us to enter a short as a bear market rally peters out and go long as market rallies.\n",
    "\n",
    "Stop Loss:\n",
    "A short-selling strategy would not be complete without a stop loss. It has a dual purpose:\n",
    "1. Stop loss: it deals with the lag in MA and false positives swing detection\n",
    "2. Position sizing: position size will be calculated from the stop loss to the close of the signal bar\n",
    "Stop loss must, therefore, be close enough to the current price to warrant decent position size. This excludes floor and ceiling. The logical candidate is short term rolling max or min, the main ingredient in the breakout regime.\n",
    "\n",
    "This combo strategy does not require a lag as the floor/ceiling method anymore. The inflection in the moving averages will lag the discovery of a swing."
   ]
  },
  {
   "cell_type": "markdown",
   "metadata": {
    "colab_type": "text",
    "id": "JiAiVWOh_-5Z"
   },
   "source": [
    "## Import libraries"
   ]
  },
  {
   "cell_type": "code",
   "execution_count": 1,
   "metadata": {
    "colab": {},
    "colab_type": "code",
    "id": "SQLjeqbO_-5c"
   },
   "outputs": [],
   "source": [
    "import numpy as np\n",
    "import matplotlib.pyplot as plt\n",
    "import tda\n",
    "from tda.client import Client\n",
    "import trade_df as tdf\n",
    "import pandas as pd\n",
    "from scipy.signal import *\n",
    "from scipy.signal import argrelextrema\n",
    "import short_selling\n",
    "\n",
    "\n",
    "PT = Client.PriceHistory.PeriodType\n",
    "P = Client.PriceHistory.Period\n",
    "FT = Client.PriceHistory.FrequencyType\n",
    "F = Client.PriceHistory.Frequency\n",
    "\n",
    "# Construct a list of permutations\n",
    "import itertools as it\n",
    "\n",
    "from datetime import datetime, timedelta\n",
    " \n",
    "def timestamp(dt):\n",
    "    epoch = datetime.utcfromtimestamp(0)\n",
    "    return (dt - epoch).total_seconds() * 1000.0\n",
    "\n",
    "\n",
    "\n",
    "pd.set_option(\"display.max_rows\", None)\n",
    "\n",
    "def time_ago(\n",
    "    days=0,\n",
    "    seconds=0,\n",
    "    microseconds=0,\n",
    "    milliseconds=0,\n",
    "    minutes=0,\n",
    "    hours=0,\n",
    "    weeks=0\n",
    "):\n",
    "    \"\"\"\n",
    "    Get time from the current time\n",
    "    \"\"\"\n",
    "    return datetime.today() - timedelta(days=1) - timedelta(**locals())"
   ]
  },
  {
   "cell_type": "code",
   "execution_count": 2,
   "metadata": {},
   "outputs": [
    {
     "data": {
      "text/plain": [
       "{'error': 'Bad request.'}"
      ]
     },
     "execution_count": 2,
     "metadata": {},
     "output_type": "execute_result"
    }
   ],
   "source": [
    "m10 = tdf.tdargs.freqs\n",
    "trange = tdf.tdargs.time_period(tdf.tdargs.periods.d10, None)\n",
    "resp = tdf.btu.LocalClient.data_client.get_price_history(\n",
    "    \"AAPL\",\n",
    "    # period_type=tda.client.Client.PriceHistory.PeriodType.MONTH,\n",
    "    # period=tda.client.Client.PriceHistory.Period.SIX_MONTHS,\n",
    "    frequency_type=tda.client.Client.PriceHistory.FrequencyType.DAILY,\n",
    "    frequency=tda.client.Client.PriceHistory.Frequency.DAILY,\n",
    "    start_datetime=datetime(2020, 4, 11),\n",
    "    end_datetime=datetime(2021, 4, 16)\n",
    ")\n",
    "\n",
    "def days_back(num):\n",
    "    return datetime.today()-timedelta(days=1)-timedelta(num)\n",
    "\n",
    "# d2  = tdf.btu.LocalClient.price_history(\n",
    "#     \"CLOV\",\n",
    "#     frequency=tdf.tdargs.frequency.m10,\n",
    "#     time_range=tdf.tdargs.time_slice(days_back(60), datetime.today())\n",
    "# )\n",
    "time_ago(weeks=3)\n",
    "resp.json()"
   ]
  },
  {
   "cell_type": "markdown",
   "metadata": {
    "colab_type": "text",
    "id": "tZiwgkeW_-5i"
   },
   "source": [
    "## Import data\n",
    "### Files name:\n",
    "1. BAC_Jan_2010_to_Jan_2019.csv, contains stock data for 'Bank of America'\n",
    "2. USDGBP_Jan_2010_to_Jan_2019.csv, contains forex data for 'USDGBP'\n",
    "3. SP500_Jan_2010_to_Jan_2019.csv, contains benchmark data for 'SP500'\n",
    "\n",
    "This data is available in the last unit of this course. You can find this file in the downloadables section of the course."
   ]
  },
  {
   "cell_type": "code",
   "execution_count": 3,
   "metadata": {
    "colab": {},
    "colab_type": "code",
    "id": "CqewFB3AYBX1"
   },
   "outputs": [],
   "source": [
    "# Data is stored in the directory 'data_modules' \n",
    "# relative_path = \"../data_modules/\""
   ]
  },
  {
   "cell_type": "code",
   "execution_count": 4,
   "metadata": {
    "colab": {},
    "colab_type": "code",
    "id": "lmuoSCpVYBX4"
   },
   "outputs": [],
   "source": [
    "# Read and process data\n",
    "# stock = pd.read_csv(relative_path +'BAC_Jan_2010_to_Jan_2019.csv',index_col=0, parse_dates=True)"
   ]
  },
  {
   "cell_type": "code",
   "execution_count": 65,
   "metadata": {
    "colab": {},
    "colab_type": "code",
    "id": "s4tKqWqeYBX9"
   },
   "outputs": [
    {
     "data": {
      "text/plain": [
       "<AxesSubplot:xlabel='time'>"
      ]
     },
     "execution_count": 65,
     "metadata": {},
     "output_type": "execute_result"
    },
    {
     "data": {
      "image/png": "[encoded data removed]",
      "text/plain": [
       "<Figure size 432x288 with 1 Axes>"
      ]
     },
     "metadata": {
      "needs_background": "light"
     },
     "output_type": "display_data"
    }
   ],
   "source": [
    "# # Import and read benchmark data using the function 'read_csv'\n",
    "# benchmark =pd.read_csv(relative_path + \n",
    "#     'SP500_Jan_2010_to_Jan_2019.csv', index_col=0, parse_dates=True)\n",
    "\n",
    "# benchmark_name = 'SP500'\n",
    "\n",
    "# # Import and read forex data using the function 'read_data'\n",
    "# forex = pd.read_csv(relative_path + \n",
    "#     'USDGBP_Jan_2010_to_Jan_2019.csv',index_col=0, parse_dates=True)\n",
    "\n",
    "# forex_name = 'USDGBP'\n",
    "\n",
    "d1  = tdf.BasePriceDf(\n",
    "    \"CLOV\",\n",
    "    freq_range=tdf.tdargs.freqs.m10.range(time_ago(days=10)),\n",
    ").data\n",
    "d2  = tdf.BasePriceDf(\n",
    "    \"CLOV\",\n",
    "    freq_range=tdf.tdargs.freqs.m10.range(time_ago(days=10)),\n",
    ").data\n",
    "bench = tdf.BasePriceDf(\n",
    "    \"SPX\",\n",
    "    freq_range=tdf.tdargs.freqs.m10.range(time_ago(days=10)),\n",
    ").data\n",
    "\n",
    "# bench = bench[(bench.T != 0).any()]\n",
    "# bench.set_index(bench.index.astype('str')).close.plot()\n",
    "\n",
    "def drop_zeros(df):\n",
    "    df = df[(df.T != 0).any()]\n",
    "    return df\n",
    "\n",
    "def midx_subset(df, df_col_names):\n",
    "    new_df = df.loc[:,pd.IndexSlice[:, df_col_names]]\n",
    "    return new_df\n",
    "    \n",
    "    \n",
    "bench = drop_zeros(bench)\n",
    "d1 = drop_zeros(d1)\n",
    "\n",
    "# d1.set_index(d1.index.astype('str')).close.plot()\n",
    "# print(bench)\n",
    "# bench_close = bench.close\n",
    "# bench_close.name = 'bench_close'\n",
    "s = 'stock'\n",
    "b = 'bench'\n",
    "\n",
    "b_arrays = [[b,b,b,b], d1.columns]\n",
    "s_arrays = [[s,s,s,s], d1.columns]\n",
    "\n",
    "mult_idx = pd.MultiIndex.from_arrays(s_arrays, names=['src', 'data'])\n",
    "d1.columns = mult_idx\n",
    "\n",
    "b_mult_idx = pd.MultiIndex.from_arrays(b_arrays, names=['src', 'data'])\n",
    "bench.columns = b_mult_idx\n",
    "\n",
    "\n",
    "\n",
    "d1 = d1.merge(midx_subset(bench, 'close') , on='time', how='left' )\n",
    "\n",
    "\n",
    "bench = bench[bench.index.isin(d1.index)]\n",
    "d1 = d1.dropna()\n",
    "rel_close = ('relative', 'close')\n",
    "d1[rel_close] = d1.stock.close / d1.bench.close\n",
    "d1[rel_close] *= d1.bench.close.iloc[0]\n",
    "# d1.relative.close = round(d1.relative.close, 2)\n",
    "d1[[('stock', 'close')]].set_index(d1.index.astype('str')).plot()"
   ]
  },
  {
   "cell_type": "code",
   "execution_count": 66,
   "metadata": {},
   "outputs": [
    {
     "data": {
      "text/plain": [
       "<AxesSubplot:xlabel='time'>"
      ]
     },
     "execution_count": 66,
     "metadata": {},
     "output_type": "execute_result"
    },
    {
     "data": {
      "image/png": "[encoded data removed]",
      "text/plain": [
       "<Figure size 432x288 with 1 Axes>"
      ]
     },
     "metadata": {
      "needs_background": "light"
     },
     "output_type": "display_data"
    }
   ],
   "source": [
    "d1[[rel_close]].set_index(d1.index.astype('str')).plot()"
   ]
  },
  {
   "cell_type": "code",
   "execution_count": null,
   "metadata": {
    "colab": {},
    "colab_type": "code",
    "id": "s4tKqWqeYBX9"
   },
   "outputs": [],
   "source": [
    "new = tdf.btu.relative_series(d1, bench)\n",
    "new['base_close'] = d2.close\n",
    "# new = d1.copy(deep=True)\n",
    "# set index to str to avoid plotting non market hoursv\n",
    "new.set_index(new.index.astype('str'))[['close', 'base_close']].plot(rot=30)"
   ]
  },
  {
   "cell_type": "code",
   "execution_count": null,
   "metadata": {
    "colab": {},
    "colab_type": "code",
    "id": "PAZ7K8P__-5p",
    "outputId": "1d158be8-a0e3-4c73-b480-2f8d3b776f12"
   },
   "outputs": [],
   "source": [
    "# Create a relative series\n",
    "# new = relative(stock_dataframe=stock, benchmark_dataframe=benchmark, benchmark_name='SP500',\n",
    "#                forex_dataframe=forex, forex_name='USDGBP', decimals=2, start=None, end=None)\n",
    "\n",
    "# Calculate the swings\n",
    "new = short_selling.swings(df=new, high='high', low='low', argrel_window=20)\n",
    "new.head()"
   ]
  },
  {
   "cell_type": "code",
   "execution_count": null,
   "metadata": {
    "colab": {},
    "colab_type": "code",
    "id": "PAZ7K8P__-5p",
    "outputId": "1d158be8-a0e3-4c73-b480-2f8d3b776f12"
   },
   "outputs": [],
   "source": [
    "# Calculate the stock regime\n",
    "new = short_selling.regime_fc(df=new, close='close', swing_low='slow',\n",
    "                swing_high='shigh', threshold=1.5, t_dev=63, decimals=3)\n",
    "\n",
    "# Returns the last two rows of the dataframe\n",
    "new.tail()"
   ]
  },
  {
   "cell_type": "markdown",
   "metadata": {
    "colab_type": "text",
    "id": "GkWU39y2_-51"
   },
   "source": [
    "### Strategy:\n",
    "To recap, our strategy will enter:\n",
    "1. Long when regime == 1 and moving average st>=mt\n",
    "2. Short when regime ==-1 and moving average st<=mt\n",
    "It will exit:\n",
    "1. Long when regime == 1 and moving average st < mt\n",
    "2. Short when regime ==-1 and moving average st > mt\n",
    "\n",
    "Stop Loss will be set at: \n",
    "1. Long highest high over mt \n",
    "2. Short lowest low over mt\n"
   ]
  },
  {
   "cell_type": "markdown",
   "metadata": {
    "colab_type": "text",
    "id": "O-fGLfSf_-52"
   },
   "source": [
    "#### Strategy creation : 'signal_fcstmt'\n",
    "\n",
    "This function 'signal_fcstmt' calculates positions based on regime & ma crossover. This function over imposes st/mt moving average cross condition on the regime. It will take an active position only if the regime and moving averages are aligned.\n",
    "Conditions:\n",
    "1. Long : st-mt > 0 & regime == 1\n",
    "2. Short: st-mt < 0 & regime == -1"
   ]
  },
  {
   "cell_type": "code",
   "execution_count": null,
   "metadata": {
    "colab": {},
    "colab_type": "code",
    "id": "kLAp5M1H_-53"
   },
   "outputs": [],
   "source": [
    "def signal_fcstmt(regime,st,mt):\n",
    "\n",
    "    # Calculate the sign of the stmt delta\n",
    "    stmt_sign = np.sign((st - mt).fillna(0))\n",
    "\n",
    "    # Calculate entries/exits based on regime and stmt delta\n",
    "    active = np.where( np.sign( regime * stmt_sign) == 1,1,np.nan)\n",
    "    signal = regime * active\n",
    "\n",
    "    return signal"
   ]
  },
  {
   "cell_type": "markdown",
   "metadata": {
    "colab_type": "text",
    "id": "aVo5uDXE_-59"
   },
   "source": [
    "#### Strategy creation : 'stop_loss'\n",
    " \n",
    "This function 'stop_loss' uses signals generated from the previously defined function and swings to calculate stop loss.\n",
    "1. Join swing lows/highs, only keeps the value of the first day of signal (to avoid reset).\n",
    "2. Find the cumulative lowest/highest close.\n",
    "3. If close breaches stop loss, then crop signal column: np.nan \n",
    "4. Thereafter, return stop-loss column  "
   ]
  },
  {
   "cell_type": "code",
   "execution_count": null,
   "metadata": {
    "colab": {},
    "colab_type": "code",
    "id": "OA1l0hWr_-5-"
   },
   "outputs": [],
   "source": [
    "def stop_loss(signal, close, s_low, s_high):\n",
    "\n",
    "    # Stop loss calculation\n",
    "    stoploss = s_low.add(\n",
    "        s_high, \n",
    "        fill_value=0\n",
    "    ).fillna(method='ffill')  # join all swings in 1 column\n",
    "    \n",
    "    stoploss[\n",
    "        ~((np.isnan(signal.shift(1))) & (~np.isnan(signal)))\n",
    "    ] = np.nan  # keep 1st sl by signal\n",
    "    \n",
    "    # Extend first value with fillna\n",
    "    stoploss = stoploss.fillna(method='ffill')\n",
    "\n",
    "    # Bull: lowest close, Bear: highest close\n",
    "    close_max = close.groupby(stoploss).cummax()\n",
    "    close_min = close.groupby(stoploss).cummin()\n",
    "    cum_close = np.where(signal == 1, close_min,\n",
    "                         np.where(signal == -1, close_max, 0))\n",
    "\n",
    "    # Reset signal where stop loss is breached\n",
    "    sl_delta = (cum_close - stoploss).fillna(0)\n",
    "    sl_sign = signal * np.sign(sl_delta)\n",
    "    signal[sl_sign == -1] = np.nan\n",
    "\n",
    "    return stoploss"
   ]
  },
  {
   "cell_type": "markdown",
   "metadata": {
    "colab_type": "text",
    "id": "aTROdjn7_-6B"
   },
   "source": [
    "#### Strategy creation: 'transaction_costs'\n",
    "\n",
    "This function 'transaction_costs' identifies entries and exits by subtracting position column one row up .diff(). To avoid any residuals na, fillna() is done before subtraction. Transaction costs are deducted from the daily returns before compounding and then this daily returns column is adjusted."
   ]
  },
  {
   "cell_type": "code",
   "execution_count": null,
   "metadata": {
    "colab": {},
    "colab_type": "code",
    "id": "BsOWs-hZ_-6D"
   },
   "outputs": [],
   "source": [
    "def transaction_costs(df, position_column, daily_return, tcs):\n",
    "\n",
    "    # Boolean filter\n",
    "    inout = df[position_column].fillna(0).diff().fillna(0) != 0\n",
    "    df[daily_return] = np.where(\n",
    "        inout, df[daily_return] - float(tcs), df[daily_return]\n",
    "    )\n",
    "\n",
    "    return df[daily_return]"
   ]
  },
  {
   "cell_type": "markdown",
   "metadata": {
    "colab_type": "text",
    "id": "FXcDNtnm_-6H"
   },
   "source": [
    "# Strategy optimization\n",
    "\n",
    "Now that we have created the strategy, the first question that comes to mind is which combinations of st and mt moving averages are going to produce returns over the higher of either passive or regime relative returns.\n",
    "\n",
    "In this section:\n",
    "\n",
    "We,\n",
    "1. Calculate the relative and absolute returns\n",
    "2. Create a list of st/mt permutations\n",
    "3. Loop through the st/mt permutations\n",
    "\n",
    "Steps within the for loop:\n",
    "​\n",
    "1. Calculate moving average crossovers\n",
    "2. Calculate positions based on the regime and moving average crossovers\n",
    "3. Calculate daily & cumulative returns and include transaction costs\n",
    "4. Calculate excess returns for passive and regime strategies \n",
    "5. Calculate the cumulative performance\n",
    "6. If Cumulative> Hurdle(max of passive/regime), then append a list to the dictionary.\n",
    "7. Plot the graph"
   ]
  },
  {
   "cell_type": "markdown",
   "metadata": {
    "colab_type": "text",
    "id": "dx6sJu7X_-6J"
   },
   "source": [
    "### Calculate relative and absolute returns"
   ]
  },
  {
   "cell_type": "code",
   "execution_count": null,
   "metadata": {
    "colab": {},
    "colab_type": "code",
    "id": "WDQmtHUT_-6L"
   },
   "outputs": [],
   "source": [
    "# Calculate returns for the relative closed price\n",
    "new['r_return_1d'] = short_selling.returns(new.close)\n",
    "# Calculate returns for the absolute closed price\n",
    "new['return_1d'] = short_selling.returns(new.base_close)"
   ]
  },
  {
   "cell_type": "code",
   "execution_count": null,
   "metadata": {
    "colab": {},
    "colab_type": "code",
    "id": "ICKUiOnV_-6P",
    "outputId": "310e3ecb-0d4f-45a4-d1ee-b0fbdf87e1cb"
   },
   "outputs": [],
   "source": [
    "# Return the last two rows of the dataframe\n",
    "new.tail(2)"
   ]
  },
  {
   "cell_type": "code",
   "execution_count": null,
   "metadata": {
    "colab": {},
    "colab_type": "code",
    "id": "XwaPYjdR_-6S"
   },
   "outputs": [],
   "source": [
    "# Declare the variables\n",
    "st_list = range(10, 101, 10)\n",
    "mt_list = range(160, 201, 20)\n",
    "\n",
    "tcs = 0.0025\n",
    "lag = 9"
   ]
  },
  {
   "cell_type": "markdown",
   "metadata": {
    "colab_type": "text",
    "id": "-f9PhHD9_-6W"
   },
   "source": [
    "### Construct a list of short_term/mid_term permutations"
   ]
  },
  {
   "cell_type": "code",
   "execution_count": null,
   "metadata": {
    "colab": {},
    "colab_type": "code",
    "id": "uijpBRF1_-6X",
    "outputId": "03efe4b9-d164-4797-f0b1-8a1aa56db387"
   },
   "outputs": [],
   "source": [
    "# Construct a list of st mt permutations\n",
    "permutations = it.product(st_list, mt_list)\n",
    "# Print the number of st/mt permutations\n",
    "print('number of short_term/mid_term permutations: ', len(list(permutations)))"
   ]
  },
  {
   "cell_type": "code",
   "execution_count": null,
   "metadata": {
    "colab": {},
    "colab_type": "code",
    "id": "35V-fQMN_-6c"
   },
   "outputs": [],
   "source": [
    "# Create a dataframe and dictionary list\n",
    "list_dict = []\n",
    "\n",
    "perf = pd.DataFrame()\n",
    "returns = pd.DataFrame()"
   ]
  },
  {
   "cell_type": "markdown",
   "metadata": {
    "colab_type": "text",
    "id": "KuZNSZxg_-6f"
   },
   "source": [
    "### Loop over st/mt permutations"
   ]
  },
  {
   "cell_type": "code",
   "execution_count": null,
   "metadata": {
    "colab": {},
    "colab_type": "code",
    "id": "UGbzxg3-_-6j",
    "outputId": "7494159e-c06e-4366-f068-ffb1270b7f9d"
   },
   "outputs": [],
   "source": [
    "# # Create a dataframe from dictionary\n",
    "# perf =  pd.DataFrame.from_dict(list_dict)\n",
    "# # Sort by perf in descending order\n",
    "# perf.sort_values(by=['perf'],ascending=False,inplace=True) \n",
    "# # Re-order columns\n",
    "# perf = perf[['st_mt', 'st','mt','perf','passive']] \n",
    "# perf[:10]"
   ]
  },
  {
   "cell_type": "code",
   "execution_count": null,
   "metadata": {
    "colab": {},
    "colab_type": "code",
    "id": "cEePvZEC_-6o",
    "outputId": "f226fd65-a078-453d-b5eb-f5fd937321c6"
   },
   "outputs": [],
   "source": [
    "# # Sort returns dataframe and plot top 10 combinations\n",
    "# plot_cols = 10\n",
    "# returns.sort_values(by=returns.index.max(),\n",
    "#                     ascending=False, axis=1, inplace=True)\n",
    "# # Plot the graph against stmt\n",
    "# returns[returns.columns[:10]].plot(figsize=(10, 7))"
   ]
  },
  {
   "cell_type": "code",
   "execution_count": null,
   "metadata": {},
   "outputs": [],
   "source": [
    "def optimize_stmt(data_df, short_mas, mid_mas):\n",
    "    # st stands for short_term and mt stands for mid_term\n",
    "    for st, mt in it.product(short_mas, mid_mas):\n",
    "        if st < mt:\n",
    "            data = create_fcstmt_signals(data_df, st, mt)\n",
    "            \n",
    "            st_mt = str(st)+'_'+str(mt)\n",
    "            \n",
    "            \n",
    "            # Date of initial position to calculate excess returns for passive and regime strategies\n",
    "            try: \n",
    "                first_position_date = data[pd.notnull(data['s'+'_'+st_mt])].index[0]\n",
    "            except IndexError:\n",
    "                continue\n",
    "            data_sliced = data[first_position_date:].copy()\n",
    "            # Cumulative performance must be higher than either passive or regime (w/o transaction costs)\n",
    "            passive = round(\n",
    "                short_selling.cum_return_percent(\n",
    "                    data_sliced['r_return_1d']\n",
    "                )[-1], \n",
    "                3\n",
    "            )\n",
    "            fc_perf = round(\n",
    "                short_selling.cum_return_percent(\n",
    "                    data_sliced['r_return_1d'] * data['regime_floorceiling'].shift(lag)\n",
    "                )[-1], \n",
    "                3\n",
    "            )\n",
    "            hurdle = np.maximum(passive, fc_perf)\n",
    "\n",
    "            # If cumulative returns > hurdle, append list_dict and returns\n",
    "            if data['c'+'_'+st_mt][-1] >= hurdle:\n",
    "                returns[st_mt] = data['c'+'_'+st_mt]\n",
    "                # a) create row dictionary\n",
    "                row = {'st_mt': st_mt, 'st': st, 'mt': mt,\n",
    "                       'perf': data['c'+'_'+st_mt][-1], 'passive': passive}\n",
    "                # b) append list_dict\n",
    "                list_dict.append(row)\n",
    "        else:\n",
    "            pass\n",
    "    return returns, list_dict\n",
    "\n",
    "\n",
    "def create_fcstmt_signals(data_df, short_ma, mid_ma):\n",
    "    # Create dataframe\n",
    "    data = pd.DataFrame()\n",
    "    data[['close', 'r_return_1d', 'regime_floorceiling', 'slow', 'shigh']] = \\\n",
    "        data_df[['close', 'r_return_1d',\n",
    "             'regime_floorceiling', 'slow', 'shigh']].copy()\n",
    "\n",
    "    # Calculate moving averages\n",
    "    st_mt = str(short_ma)+'_'+str(mid_ma)\n",
    "    r_st_ma = short_selling.sma(\n",
    "        df=data, \n",
    "        price='close',\n",
    "        ma_per=short_ma, \n",
    "        min_per=1, \n",
    "        decimals=2\n",
    "    )\n",
    "    r_mt_ma = short_selling.sma(\n",
    "        df=data, \n",
    "        price='close',\n",
    "        ma_per=mid_ma, \n",
    "        min_per=1, \n",
    "        decimals=2\n",
    "    )\n",
    "    data['r_mt_ma'] = r_mt_ma\n",
    "    data['r_st_ma'] = r_st_ma\n",
    "\n",
    "    # Calculate positions based on regime and moving average crossovers\n",
    "    data['s'+'_'+st_mt] = signal_fcstmt(\n",
    "        regime=data['regime_floorceiling'], \n",
    "        st=r_st_ma, \n",
    "        mt=r_mt_ma\n",
    "    )\n",
    "    data['stop_loss'+'_'+st_mt] = stop_loss(\n",
    "        signal=data['s'+'_'+st_mt],\n",
    "        close=data['close'],\n",
    "        s_low=data['slow'],\n",
    "        s_high=data['shigh']\n",
    "    )\n",
    "\n",
    "    # Calculate daily & cumulative returns and include transaction costs\n",
    "    data['d'+'_'+st_mt] = data['r_return_1d'] * data['s'+'_'+st_mt].shift(1)\n",
    "    data['d'+'_'+st_mt] = transaction_costs(\n",
    "        df=data, \n",
    "        position_column='s'+'_'+st_mt, \n",
    "        daily_return='d'+'_'+st_mt, \n",
    "        tcs=tcs\n",
    "    )\n",
    "    data['c'+'_'+st_mt] = round(short_selling.cum_return_percent(data['d'+'_'+st_mt].fillna(0)), 3)\n",
    "    return data\n",
    "\n"
   ]
  },
  {
   "cell_type": "code",
   "execution_count": null,
   "metadata": {},
   "outputs": [],
   "source": [
    "# st_list = range(10, 101, 10)\n",
    "# mt_list = range(160, 201, 20)\n",
    "\n",
    "st_list = range(10, 101, 10)\n",
    "mt_list = range(160, 201, 20)\n",
    "new.head()"
   ]
  },
  {
   "cell_type": "code",
   "execution_count": null,
   "metadata": {},
   "outputs": [],
   "source": [
    "res_df, l_dict = optimize_stmt(new, st_list, mt_list)\n",
    "# Create a dataframe from dictionary\n",
    "perf =  pd.DataFrame.from_dict(l_dict)"
   ]
  },
  {
   "cell_type": "code",
   "execution_count": null,
   "metadata": {},
   "outputs": [],
   "source": [
    "# Sort by perf in descending order\n",
    "try:\n",
    "    perf.sort_values(by=['perf'],ascending=False,inplace=True) \n",
    "    # Re-order columns\n",
    "    perf = perf[['st_mt', 'st','mt','perf','passive']] \n",
    "    perf[:10]\n",
    "except:\n",
    "    pass"
   ]
  },
  {
   "cell_type": "code",
   "execution_count": null,
   "metadata": {},
   "outputs": [],
   "source": [
    "# Sort returns dataframe and plot top 10 combinations\n",
    "try:\n",
    "    plot_cols = 10\n",
    "    res_df.sort_values(by=res_df.index.max(),\n",
    "                        ascending=False, axis=1, inplace=True)\n",
    "    # Plot the graph against stmt\n",
    "    res_df[res_df.columns[:10]].plot(figsize=(10, 7))\n",
    "except:\n",
    "    pass"
   ]
  },
  {
   "cell_type": "code",
   "execution_count": null,
   "metadata": {},
   "outputs": [],
   "source": [
    "try:\n",
    "    opt_st_num = perf[:1].st.iloc[0]\n",
    "    opt_mt_num = perf[:1].mt.iloc[0]\n",
    "    data = create_fcstmt_signals(new, opt_st_num, opt_mt_num)\n",
    "    opt_cross_col = f's_{opt_st_num}_{opt_mt_num}'\n",
    "    stop_loss_col = f'stop_los{opt_cross_col}'  # lol\n",
    "    data[opt_cross_col] = data[opt_cross_col].fillna(0)\n",
    "    data\n",
    "except:\n",
    "    pass"
   ]
  },
  {
   "cell_type": "code",
   "execution_count": null,
   "metadata": {},
   "outputs": [],
   "source": [
    "data[stop_loss_col] = np.where(data[opt_cross_col] == 0, np.NAN, data[stop_loss_col])\n",
    "data['base_close'] = d2.close\n",
    "data.set_index(data.index.astype('str'))[\n",
    "    ['close', 'r_st_ma', 'r_mt_ma', opt_cross_col, stop_loss_col, 'base_close']\n",
    "].plot(\n",
    "    figsize=(15, 7),\n",
    "    secondary_y=[opt_cross_col]\n",
    ")"
   ]
  },
  {
   "cell_type": "code",
   "execution_count": null,
   "metadata": {},
   "outputs": [],
   "source": [
    "new.set_index(new.index.astype('str'))[\n",
    "    ['close', 'base_close', 'regime_floorceiling']\n",
    "].plot(\n",
    "    secondary_y=['regime_floorceiling'],\n",
    "    figsize=(15, 7),\n",
    ")"
   ]
  }
 ],
 "metadata": {
  "colab": {
   "collapsed_sections": [],
   "name": "Strategy_Creation_And_Optimization.ipynb",
   "provenance": []
  },
  "kernelspec": {
   "display_name": "Python 3",
   "language": "python",
   "name": "python3"
  },
  "language_info": {
   "codemirror_mode": {
    "name": "ipython",
    "version": 3
   },
   "file_extension": ".py",
   "mimetype": "text/x-python",
   "name": "python",
   "nbconvert_exporter": "python",
   "pygments_lexer": "ipython3",
   "version": "3.8.3"
  }
 },
 "nbformat": 4,
 "nbformat_minor": 4
}
