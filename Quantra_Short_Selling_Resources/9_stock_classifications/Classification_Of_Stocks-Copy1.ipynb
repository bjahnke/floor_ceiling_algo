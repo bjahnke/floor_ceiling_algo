{
 "cells": [
  {
   "cell_type": "markdown",
   "metadata": {
    "colab_type": "text",
    "id": "kqRggC_kVd8H"
   },
   "source": [
    "# Notebook Instructions\n",
    "<i>You can run the notebook document sequentially (one cell at a time) by pressing <b> shift + enter</b>. While a cell is running, a [*] will display on the left. When it has been run, a number will display indicating the order in which it was run in the notebook [8].</i>\n",
    "\n",
    "<i>Enter edit mode by pressing <b>`Enter`</b> or using the mouse to click on a cell's editor area. Edit mode is indicated by a green cell border and a prompt showing in the editor area.</i> <BR>\n",
    "    \n",
    "This course is based on specific versions of python packages. You can find the details of the same in <a href='https://quantra.quantinsti.com/quantra-notebook' target=\"_blank\" >this manual</a>. The manual also explains how to use these codes in other versions of python packages. <BR>"
   ]
  },
  {
   "cell_type": "markdown",
   "metadata": {
    "colab_type": "text",
    "id": "a8FsmHCGVd8O"
   },
   "source": [
    "# Classifying Stocks- Screening Tool\n",
    "\n",
    "In this notebook, you learn how to create a stock screener. \n",
    "1. Create a list of stocks\n",
    "2. Find the regime on a relative basis for each stock\n",
    "3. Identify the start date of the latest regime\n",
    "4. Calculate absolute and relative cumulative returns\n"
   ]
  },
  {
   "cell_type": "markdown",
   "metadata": {
    "colab_type": "text",
    "id": "oAU0BY2gVd8S"
   },
   "source": [
    "### Import libraries"
   ]
  },
  {
   "cell_type": "code",
   "execution_count": 1,
   "metadata": {
    "colab": {},
    "colab_type": "code",
    "id": "jOIbjTubVd8W"
   },
   "outputs": [],
   "source": [
    "\n",
    "import numpy as np\n",
    "import matplotlib.pyplot as plt\n",
    "import tda\n",
    "from tda.client import Client\n",
    "import back_test_utils as btu\n",
    "import pandas as pd\n",
    "from scipy.signal import *\n",
    "from scipy.signal import argrelextrema\n",
    "import short_selling\n",
    "import datetime\n",
    "\n",
    "PT = Client.PriceHistory.PeriodType\n",
    "P = Client.PriceHistory.Period\n",
    "FT = Client.PriceHistory.FrequencyType\n",
    "F = Client.PriceHistory.Frequency\n",
    "\n",
    "client = btu.client()\n"
   ]
  },
  {
   "cell_type": "markdown",
   "metadata": {
    "colab_type": "text",
    "id": "wr_VPQMrVd8m"
   },
   "source": [
    "### Import data\n",
    "\n",
    "#### Files name:\n",
    "1. BK_Jan_2010_to_Jan_2019, Bank of New York Mellon\n",
    "2. JPM_Jan_2010_to_Jan_2019, JP Morgan\n",
    "3. WFC_Jan_2010_to_Jan_2019, Wells Fargo\n",
    "4. BAC_Jan_2010_to_Jan_2019, Bank of America\n",
    "5. USDGBP_Jan_2010_to_Jan_2019.csv, contains forex data for 'USDGBP'\n",
    "6. SP500_Jan_2010_to_Jan_2019.csv, contains benchmark data for 'SP500'\n",
    "\n",
    "This data is available in the last unit of this course. You can find this file in the downloadables section of the course."
   ]
  },
  {
   "cell_type": "code",
   "execution_count": 2,
   "metadata": {
    "colab": {},
    "colab_type": "code",
    "id": "K-Y0tWLDYD_R",
    "jupyter": {
     "source_hidden": true
    }
   },
   "outputs": [],
   "source": [
    "# # Data is stored in the directory 'data_modules' \n",
    "# relative_path = \"../data_modules/\""
   ]
  },
  {
   "cell_type": "code",
   "execution_count": 3,
   "metadata": {
    "colab": {},
    "colab_type": "code",
    "id": "cRaRxUN-Vd8q",
    "jupyter": {
     "source_hidden": true
    }
   },
   "outputs": [],
   "source": [
    "# # Import and read benchmark data using the function 'read_csv'\n",
    "# benchmark = pd.read_csv(relative_path +\n",
    "#                         'SP500_Jan_2010_to_Jan_2019.csv', index_col=0, parse_dates=True)\n",
    "\n",
    "# benchmark_name = 'SP500'\n",
    "\n",
    "# # Import and read forex data using the function 'read_data'\n",
    "# forex = pd.read_csv(relative_path +\n",
    "#                     'USDGBP_Jan_2010_to_Jan_2019.csv', index_col=0, parse_dates=True)\n",
    "\n",
    "# forex_name = 'USDGBP'"
   ]
  },
  {
   "cell_type": "code",
   "execution_count": 4,
   "metadata": {
    "colab": {},
    "colab_type": "code",
    "id": "VWVXGC0KVd81",
    "jupyter": {
     "source_hidden": true
    }
   },
   "outputs": [],
   "source": [
    "# Create a dataframe and dictionary list\n",
    "# market_regime = pd.DataFrame()\n",
    "# list_dict = []"
   ]
  },
  {
   "cell_type": "markdown",
   "metadata": {
    "colab_type": "text",
    "id": "L5SbO93dVd9B"
   },
   "source": [
    "### Stock classification for Bank of America, BAC."
   ]
  },
  {
   "cell_type": "code",
   "execution_count": 5,
   "metadata": {
    "colab": {},
    "colab_type": "code",
    "id": "3JkDnyj9Vd9F",
    "jupyter": {
     "source_hidden": true
    }
   },
   "outputs": [],
   "source": [
    "# Read and process data\n",
    "# data = pd.read_csv(relative_path + 'BAC_Jan_2010_to_Jan_2019.csv',\n",
    "#                    index_col=0, parse_dates=True)"
   ]
  },
  {
   "cell_type": "markdown",
   "metadata": {
    "colab_type": "text",
    "id": "_zQVS6KFVd9P"
   },
   "source": [
    "#### Find the stock's regime:"
   ]
  },
  {
   "cell_type": "code",
   "execution_count": 6,
   "metadata": {
    "colab": {},
    "colab_type": "code",
    "id": "H1iESmMlVd9T"
   },
   "outputs": [],
   "source": [
    "# Create a relative series\n",
    "# data = short_selling.relative(stock_dataframe=data, benchmark_dataframe=benchmark, benchmark_name='SP500',\n",
    "#                 forex_dataframe=forex, forex_name='USDGBP', decimals=2, start=None, end=None)\n",
    "\n",
    "# Calculate the swings\n",
    "# s1 = swings(\n",
    "#     df=data, \n",
    "#     high='rebase_high',\n",
    "#     low='rebase_low', \n",
    "#     argrel_window=20\n",
    "# )\n",
    "\n",
    "# # Calculate the stock regime\n",
    "# s1 = regime_fc(\n",
    "#     df=s1, \n",
    "#     close='rebase_close', \n",
    "#     swing_low='sw_rebase_low',\n",
    "#     swing_high='sw_rebase_high', \n",
    "#     threshold=1.5, \n",
    "#     t_dev=63, \n",
    "#     decimals=3\n",
    "# )\n",
    "\n",
    "# # Current regime\n",
    "# regime = data['r_regime_floorceiling'][-1]"
   ]
  },
  {
   "cell_type": "markdown",
   "metadata": {
    "colab_type": "text",
    "id": "ba6l26OXVd9e"
   },
   "source": [
    "#### Find the regime change date:"
   ]
  },
  {
   "cell_type": "code",
   "execution_count": 7,
   "metadata": {
    "colab": {},
    "colab_type": "code",
    "id": "64884RK9Vd9h"
   },
   "outputs": [],
   "source": [
    "# # Find the latest regime change\n",
    "# regime_change_date = s1[s1['r_regime_change'].diff() != 0].index[-1]"
   ]
  },
  {
   "cell_type": "markdown",
   "metadata": {
    "colab_type": "text",
    "id": "cI04TD7QVd9s"
   },
   "source": [
    "#### Calculate absolute and relative cumulative returns:"
   ]
  },
  {
   "cell_type": "code",
   "execution_count": 8,
   "metadata": {
    "colab": {},
    "colab_type": "code",
    "id": "9c0sq1GHVd9w"
   },
   "outputs": [],
   "source": [
    "# # Calculate cumulative returns for relative series\n",
    "# cumulative_relative_returns = cum_return_percent(\n",
    "#     returns(s1[regime_change_date:]['rebase_close'])\n",
    "# )[-1]\n",
    "\n",
    "# # Calculate cumulative returns for absolute series\n",
    "# cumulative_absolute_returns = cum_return_percent(\n",
    "#     returns(s1[regime_change_date:]['stock_close'])\n",
    "# )[-1]"
   ]
  },
  {
   "cell_type": "code",
   "execution_count": 9,
   "metadata": {
    "colab": {},
    "colab_type": "code",
    "id": "13zKlGj7Vd97"
   },
   "outputs": [],
   "source": [
    "# # Create a dictionary  of the columns required and append it to the list\n",
    "# row = {\n",
    "#     'file_name': \"BK\", \n",
    "#     'regime': regime, \n",
    "#     'regime_change_date': regime_change_date,\n",
    "#     'relative_returns': cumulative_relative_returns, \n",
    "#     'absolute_returns': cumulative_absolute_returns\n",
    "# }\n",
    "\n",
    "# # Append dictionary row to list\n",
    "# list_dict.append(row)"
   ]
  },
  {
   "cell_type": "code",
   "execution_count": 10,
   "metadata": {
    "colab": {},
    "colab_type": "code",
    "id": "gMYQm4__Vd-G",
    "outputId": "b9a8ef33-462b-4808-9533-915a4ee06575"
   },
   "outputs": [],
   "source": [
    "# # Instantiate market_regime df using pd.DataFrame. from_dict()\n",
    "# market_regime = pd.DataFrame.from_dict(list_dict)\n",
    "# # Change the order of the columns\n",
    "# market_regime = market_regime[[\n",
    "#     'file_name', \n",
    "#     'regime_change_date',\n",
    "#     'regime', \n",
    "#     'relative_returns', \n",
    "#     'absolute_returns'\n",
    "# ]]\n",
    "# # Sort columns by regime change date\n",
    "# market_regime.sort_values(\n",
    "#     by=['regime_change_date'], ascending=False, inplace=True\n",
    "# )\n",
    "\n",
    "# # Print the market regime\n",
    "# market_regime"
   ]
  },
  {
   "cell_type": "markdown",
   "metadata": {
    "colab_type": "text",
    "id": "BoobGMR4Vd-g"
   },
   "source": [
    "Result: Regime for Bank of America is -1, bearish."
   ]
  },
  {
   "cell_type": "markdown",
   "metadata": {
    "colab_type": "text",
    "id": "3c5mYldxVd-j"
   },
   "source": [
    "Now, let's perform these four steps over the other stock data by looping using a 'for' loop."
   ]
  },
  {
   "cell_type": "markdown",
   "metadata": {
    "colab_type": "text",
    "id": "iX6Lfj3dVd-m"
   },
   "source": [
    "#### Create a stock universe:\n",
    "\n",
    "Create a list of stock data, file_names[].\n",
    "1. BK_Jan_2010_to_Jan_2019, Bank of New York Mellon\n",
    "2. JPM_Jan_2010_to_Jan_2019, JP Morgan\n",
    "3. WFC_Jan_2010_to_Jan_2019, Wells Fargo\n",
    "4. BAC_Jan_2010_to_Jan_2019, Bank of America"
   ]
  },
  {
   "cell_type": "code",
   "execution_count": 11,
   "metadata": {
    "colab": {},
    "colab_type": "code",
    "id": "wpb1R4G9Vd-q"
   },
   "outputs": [],
   "source": [
    "# # Create a list of stock data\n",
    "file_names = [\n",
    "    'BAC', \n",
    "    'BK',\n",
    "    'JPM', \n",
    "    'WFC',\n",
    "]"
   ]
  },
  {
   "cell_type": "markdown",
   "metadata": {
    "colab_type": "text",
    "id": "kl5F5RP5Vd-2"
   },
   "source": [
    "### Loop through the stocks using the same four steps:\n",
    "1. Find the regime on a relative basis for each stock\n",
    "2. Identify the start date of the latest regime\n",
    "3. Calculate absolute and relative cumulative returns"
   ]
  },
  {
   "cell_type": "code",
   "execution_count": 12,
   "metadata": {
    "colab": {},
    "colab_type": "code",
    "id": "FsEj-JZSVd-6"
   },
   "outputs": [],
   "source": [
    "list_dict = []\n",
    "# For loop to iterate over the tickers list\n",
    "for count, file_name in enumerate(file_names):\n",
    "    df = btu.rel_price_history(\n",
    "        client, \n",
    "        stock_symbol=file_name, \n",
    "        bench_symbol=\"SPX\",\n",
    "        period_type=PT.YEAR,\n",
    "        period=P.TEN_YEARS,\n",
    "        frequency_type=FT.DAILY,\n",
    "        frequency=F.DAILY,\n",
    "        index_time=True,\n",
    "    )\n",
    "\n",
    "    # Data is stored in the directory 'data_modules'\n",
    "#     relative_path = \"../data_modules/\"\n",
    "    # Read and process data: relative, swings, regime_fc\n",
    "#     df = pd.read_csv(relative_path + file_name + '.csv',\n",
    "#                      index_col=0, parse_dates=True)\n",
    "#     df = relative(stock_dataframe=df, benchmark_dataframe=benchmark, benchmark_name='SP500',\n",
    "#                   forex_dataframe=forex, forex_name='USDGBP', decimals=2, start=None, end=None)\n",
    "    df = btu.swings(\n",
    "        df=df, \n",
    "        hi_label='rebase_high',\n",
    "        lo_label='rebase_low', \n",
    "        argrel_window=20\n",
    "    )\n",
    "    df = short_selling.regime_fc(\n",
    "        df=df, \n",
    "        close='rebase_close',\n",
    "        swing_low='sw_rebase_low',\n",
    "        swing_high='sw_rebase_high', \n",
    "        threshold=1.5, \n",
    "        t_dev=63, \n",
    "        decimals=3\n",
    "    )\n",
    "\n",
    "    # Instantiate variables with last row values for each field\n",
    "    # Current regime\n",
    "    regime = df['r_regime_floorceiling'][-1]\n",
    "\n",
    "    regime_change_date = df[df['r_regime_change'].diff() != 0].index[-1]\n",
    "    \n",
    "    # Calculate cumulative returns for relative series\n",
    "    cum_rel_rets = short_selling.cum_return_percent(\n",
    "        short_selling.returns(df[regime_change_date:]['rebase_close'])\n",
    "    )[-1]\n",
    "    # Calculate cumulative returns for relative series\n",
    "    cum_abs_rets = short_selling.cum_return_percent(\n",
    "        short_selling.returns(df[regime_change_date:]['stock_close'])\n",
    "    )[-1]\n",
    "\n",
    "    # Create a row dictionary and list_dict.append(row)\n",
    "    row = {\n",
    "        'file_names': file_name, \n",
    "        'regime': regime, \n",
    "        'regime_change_date': regime_change_date,\n",
    "        'relative_returns': cum_rel_rets, \n",
    "        'absolute_returns': cum_abs_rets\n",
    "    }\n",
    "    # Append dictionary row to list\n",
    "    list_dict.append(row)"
   ]
  },
  {
   "cell_type": "code",
   "execution_count": 13,
   "metadata": {
    "colab": {},
    "colab_type": "code",
    "id": "mdq2K6CMVd_F",
    "outputId": "a957768d-4e18-45a9-aee3-3dabb6c703a4",
    "scrolled": true
   },
   "outputs": [
    {
     "data": {
      "text/html": [
       "<div>\n",
       "<style scoped>\n",
       "    .dataframe tbody tr th:only-of-type {\n",
       "        vertical-align: middle;\n",
       "    }\n",
       "\n",
       "    .dataframe tbody tr th {\n",
       "        vertical-align: top;\n",
       "    }\n",
       "\n",
       "    .dataframe thead th {\n",
       "        text-align: right;\n",
       "    }\n",
       "</style>\n",
       "<table border=\"1\" class=\"dataframe\">\n",
       "  <thead>\n",
       "    <tr style=\"text-align: right;\">\n",
       "      <th></th>\n",
       "      <th>regime_change_date</th>\n",
       "      <th>regime</th>\n",
       "      <th>relative_returns</th>\n",
       "      <th>absolute_returns</th>\n",
       "    </tr>\n",
       "    <tr>\n",
       "      <th>file_names</th>\n",
       "      <th></th>\n",
       "      <th></th>\n",
       "      <th></th>\n",
       "      <th></th>\n",
       "    </tr>\n",
       "  </thead>\n",
       "  <tbody>\n",
       "    <tr>\n",
       "      <th>WFC</th>\n",
       "      <td>2021-02-08</td>\n",
       "      <td>1.0</td>\n",
       "      <td>15.6</td>\n",
       "      <td>18.7</td>\n",
       "    </tr>\n",
       "    <tr>\n",
       "      <th>BAC</th>\n",
       "      <td>2021-02-01</td>\n",
       "      <td>1.0</td>\n",
       "      <td>23.7</td>\n",
       "      <td>31.8</td>\n",
       "    </tr>\n",
       "    <tr>\n",
       "      <th>JPM</th>\n",
       "      <td>2020-06-05</td>\n",
       "      <td>-1.0</td>\n",
       "      <td>9.8</td>\n",
       "      <td>38.2</td>\n",
       "    </tr>\n",
       "    <tr>\n",
       "      <th>BK</th>\n",
       "      <td>2018-01-12</td>\n",
       "      <td>-1.0</td>\n",
       "      <td>-43.7</td>\n",
       "      <td>-18.7</td>\n",
       "    </tr>\n",
       "  </tbody>\n",
       "</table>\n",
       "</div>"
      ],
      "text/plain": [
       "           regime_change_date  regime  relative_returns  absolute_returns\n",
       "file_names                                                               \n",
       "WFC                2021-02-08     1.0              15.6              18.7\n",
       "BAC                2021-02-01     1.0              23.7              31.8\n",
       "JPM                2020-06-05    -1.0               9.8              38.2\n",
       "BK                 2018-01-12    -1.0             -43.7             -18.7"
      ]
     },
     "execution_count": 13,
     "metadata": {},
     "output_type": "execute_result"
    }
   ],
   "source": [
    "# Instantiate market_regime df using pd.DataFrame. from_dict()\n",
    "market_regime = pd.DataFrame.from_dict(list_dict)\n",
    "# Set Index as file_names\n",
    "market_regime = market_regime.set_index('file_names')\n",
    "# Change the order of the columns\n",
    "market_regime = market_regime[['regime_change_date',\n",
    "                               'regime', 'relative_returns', 'absolute_returns']]\n",
    "# Sort columns by regime change date\n",
    "market_regime.sort_values(\n",
    "    by=['regime_change_date'], ascending=False, inplace=True)\n",
    "\n",
    "# Print market regime\n",
    "market_regime"
   ]
  },
  {
   "cell_type": "markdown",
   "metadata": {
    "colab_type": "text",
    "id": "pFNfxoNifk75"
   },
   "source": [
    "### Conclusion\n",
    "This notebook gives you a basic framework to create a powerful daily screening across your entire investment universe. You can scan for signals, calculate performance and perform all sorts of manipulations.\n",
    "Bank of America and New York Mellon have a negative regime change, bearish. Whereas, Wells Fargo and JP Morgan have a positive regime change, bullish.\n",
    "</span> <BR><BR>"
   ]
  }
 ],
 "metadata": {
  "colab": {
   "collapsed_sections": [],
   "name": "Classification_Of_Stocks.ipynb",
   "provenance": []
  },
  "kernelspec": {
   "display_name": "Python 3",
   "language": "python",
   "name": "python3"
  },
  "language_info": {
   "codemirror_mode": {
    "name": "ipython",
    "version": 3
   },
   "file_extension": ".py",
   "mimetype": "text/x-python",
   "name": "python",
   "nbconvert_exporter": "python",
   "pygments_lexer": "ipython3",
   "version": "3.8.3"
  }
 },
 "nbformat": 4,
 "nbformat_minor": 4
}
